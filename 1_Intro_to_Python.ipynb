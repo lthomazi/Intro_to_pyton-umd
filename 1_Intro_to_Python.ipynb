{
 "cells": [
  {
   "cell_type": "markdown",
   "metadata": {
    "colab_type": "text",
    "id": "-_jopEcfjIWu"
   },
   "source": [
    "# Introducton to Python syntax and features"
   ]
  },
  {
   "cell_type": "markdown",
   "metadata": {
    "colab_type": "text",
    "id": "KHvHnXxq45AW"
   },
   "source": [
    "## I. Introduction\n",
    "\n",
    "1. All code and examples use Python 3.x\n",
    "2. We will use the following Python packages:\n",
    "  - Pandas \n",
    "  - Matplotlib\n",
    "  - Numpy\n",
    "3. General instructions:\n",
    "  - Some sections may contain a study drill, which is a small exercise to help you review the concepts. \n",
    "  - You should work through each section in sequence - each section builds upon the previous.\n",
    "    - You can run code using the 'play' button that appears when you click in each interactive cell. Additionally, you can use a keyboard shortcut (shift + enter) to run the contents of the code cell.\n",
    "4. Style conventions:\n",
    "  - In-text code snippets will be formatted like this: \n",
    "  \n",
    "  `print(\"Hello world!\")`\n",
    "  - Interactive cells will look the like code examples, but will have a set of square brackets in the top left ( `[ ]`).\n",
    "\n",
    "  - Study drills will be formatted like this:\n",
    "\n",
    "  > **Study drill:**\n",
    "  > \n",
    "  > What is the difference between these two blocks of code? \n"
   ]
  },
  {
   "cell_type": "markdown",
   "metadata": {
    "colab_type": "text",
    "id": "ma8Vy-WmRMqN"
   },
   "source": [
    "## II. Outline\n",
    "\n",
    "* Python syntax\n",
    "* Built-in data types\n",
    "* Operators\n",
    "* Basic data types\n",
    "* Loops\n",
    "* Functions\n",
    "* Importing data\n"
   ]
  },
  {
   "cell_type": "markdown",
   "metadata": {
    "colab_type": "text",
    "id": "LSeVxC1XjhgO"
   },
   "source": [
    "## III. Syntax\n",
    "\n",
    "Python is an interpreted language, so code may be run in two ways:\n",
    "- \"Interactive\" programming\n",
    "- \"Script\" programming"
   ]
  },
  {
   "cell_type": "markdown",
   "metadata": {
    "colab_type": "text",
    "id": "IxkNLQEY45AZ"
   },
   "source": [
    "\n",
    "\n",
    "### 3.1 \"Interactive mode\" programming\n",
    "\n",
    "Interactive programming allows you to enter code and then immediately see the results. This style of programming is useful for simple operations or \"line by line\" programming. We will be interactively programming in Python in this workshop.\n",
    "\n",
    "- Type the following code in the cell below and use \"Shift+Enter\" to run the code.\n",
    "    ```python\n",
    "    print(\"Hello World!\")\n",
    "    ```\n",
    "    \n",
    "__`print()` is a Python built-in function. This means that it is \"always there.\"__"
   ]
  },
  {
   "cell_type": "code",
   "execution_count": 65,
   "metadata": {
    "colab": {},
    "colab_type": "code",
    "id": "ngpGB2fZ45Ab"
   },
   "outputs": [
    {
     "name": "stdout",
     "output_type": "stream",
     "text": [
      "hello World\n"
     ]
    }
   ],
   "source": [
    "print(\"hello World\")\n"
   ]
  },
  {
   "cell_type": "markdown",
   "metadata": {
    "colab_type": "text",
    "id": "MMdMAM_W0DsM"
   },
   "source": [
    "### 3.2 A brief note about \"script mode\" programming\n",
    "For complex programming tasks, it is common to save the code in plain text files with a \".py\" extension. Programming this way allows you to save your code for reuse and automation, and allows you to interact with multiple programs at once. "
   ]
  },
  {
   "cell_type": "markdown",
   "metadata": {
    "colab_type": "text",
    "id": "Gf1PGK9V45Ah"
   },
   "source": [
    "    \n",
    "### 3.3 Quotations & string data\n",
    "\n",
    "Text or string data have to be wrapped in quotation marks otherwise Python will attempt to evaluate the words as code and will raise an error.\n",
    "\n",
    "- Single quotes (`'`)\n",
    "- Double quotes (`\"`)\n",
    "\n",
    "```python\n",
    "a_word = 'Python'\n",
    "a_sentence = \"Today is a beautiful day!\"\n",
    "```\n",
    "\n",
    "Single and double quotes may be used interchangeably, but be careful when using single quotes when your text contains apostrophes!\n",
    "\n",
    "```python\n",
    "# The following string will cause an error:\n",
    "a_sentence = 'Spam and eggs are my friend's favorite foods.'\n",
    "\n",
    "# The same string wrapped in double quotes will be interpreted correctly:\n",
    "a_sentence = \"Spam and eggs are my friend's favorite foods.\"\n",
    "```\n",
    "\n",
    "- Triple quotes (`'''` or `\"\"\"`)\n",
    "\n",
    "```python\n",
    "# A multi-line string:\n",
    "a_paragraph = '''We are starting to study Python. \n",
    "After we finish this tutorial, we will be on our to programming with Python! That's pretty cool!'''\n",
    "```\n",
    "\n",
    "> **Study drill:**\n",
    "> - Create a multi-line comment and store the comment in a variable.\n",
    "> - Return the contents of the variable using `print(variable)`.\n",
    "> - Now return the contents of the variable by calling the variable directly, `variable`.\n",
    "> - What is different between what each printed to the screen?\n",
    "\n",
    "\n",
    "                    \n",
    "\n"
   ]
  },
  {
   "cell_type": "code",
   "execution_count": 66,
   "metadata": {
    "colab": {},
    "colab_type": "code",
    "id": "BTOsAXNmuQ9M"
   },
   "outputs": [
    {
     "name": "stdout",
     "output_type": "stream",
     "text": [
      "hello\n",
      "world\n"
     ]
    }
   ],
   "source": [
    "s = '''hello\n",
    "world'''\n",
    "\n",
    "print(s)\n"
   ]
  },
  {
   "cell_type": "markdown",
   "metadata": {
    "colab_type": "text",
    "id": "W3SUO7zWohDI"
   },
   "source": [
    "### 3.4 Comments\n",
    "- Any line beginning with an octothorpe (or hashtag) `#` is treated as a comment in the Python interpreter.\n",
    "- Comments are a great way to leave explanations or instructions in the code.\n",
    "- For example:\n",
    "\n",
    "    ```python\n",
    "    # Print Hello world with print() function\n",
    "    print(\"Hello World!\")\n",
    "    ```\n",
    "- Multi-line comments should be wrapped in triple quotes, for example:\n",
    "\n",
    "    ```python\n",
    "    '''\n",
    "    This comment will cover multiple lines.\n",
    "    Anything between the triple quotes will be interpreted as a comment.\n",
    "    Neat!\n",
    "    '''\n",
    "    ```\n",
    "\n",
    "Although multi-line comments are possible with tripe quotes, it is common to only use them as Docstrings for functions. If you are writing comments in your code that spans multiple lines, you should get in the habit of using the single line octothorpe/hash comment style. "
   ]
  },
  {
   "cell_type": "markdown",
   "metadata": {
    "colab_type": "text",
    "id": "t_SSTB8Rohag"
   },
   "source": [
    "### 3.5 Reserved words in Python\n",
    "\n",
    "- The following reserved words cannot be used as variable names or other identifier names (__Lower case only__). In general, you should avoid using any variation of these words in your variable names.\n",
    "\n",
    "|          ||         ||        |\n",
    "|:---:     ||:---:    ||:---:   |  \n",
    "| assert   || finally || or     |\n",
    "| break    || for     || pass   |\n",
    "| class    || from    || print  |\n",
    "| continue || global  || raise  |\n",
    "| def      || if      || return |\n",
    "| del      || import  || try    |\n",
    "| elif     || in      || while  |\n",
    "| else     || is      || with   |\n",
    "| except   || lambda  || yield  | \n",
    "| not      || exec    || and    |"
   ]
  },
  {
   "cell_type": "markdown",
   "metadata": {
    "colab_type": "text",
    "id": "a2dA7GKKohwH"
   },
   "source": [
    "### 3.6 Indentation\n",
    "\n",
    "- The number of spaces in the indentation is variable (typically four of five spaces), but all statements within the block must be indented the same amount.\n",
    "\n",
    "In the examples below, the `if` statement is not indented, but the statement that follows the colon is indented.\n",
    "\n",
    "- For example:\n",
    "\n",
    "  __Copy below code to the below cell and run it:__    \n",
    "  ```python \n",
    "  # A correct if statement\n",
    "  if 2 > 3:\n",
    "      print(True)\n",
    "  else:\n",
    "      print(False)\n",
    "  ```\n",
    "\n",
    "  __Copy below code to the below cell and run it:__\n",
    "  ```python\n",
    "  # An incorrect if statement\n",
    "  if 2 > 3:\n",
    "      print(True)\n",
    "  else:\n",
    "  print(False)\n",
    "  ```\n",
    "  \n",
    "> **Study Drill:**\n",
    ">\n",
    "> What are the differences between these two blocks of code?"
   ]
  },
  {
   "cell_type": "code",
   "execution_count": 67,
   "metadata": {
    "colab": {},
    "colab_type": "code",
    "id": "boxAVU5b45Ak"
   },
   "outputs": [
    {
     "name": "stdout",
     "output_type": "stream",
     "text": [
      "False\n"
     ]
    }
   ],
   "source": [
    "if 2 > 3:\n",
    "    print(True)\n",
    "else:\n",
    "    print(False)"
   ]
  },
  {
   "cell_type": "markdown",
   "metadata": {
    "colab_type": "text",
    "id": "NErt8OYbkLEn"
   },
   "source": [
    "### 3.7 Built-in data types\n",
    "\n",
    "All data in Python has a type associated with it. Data types allow you to perform operations like arthmetic and text formatting. When you create data, Python can often automatically determine what type it is. However, it can be useful to explictly specify the type.\n",
    "\n",
    "Here we only cover some basic built-in data types (Strings, Integers, Floats). Click [here](https://docs.python.org/2/library/stdtypes.html#numeric-types-int-float-long-complex) for More."
   ]
  },
  {
   "cell_type": "markdown",
   "metadata": {
    "colab_type": "text",
    "id": "nQZoNesZ45An"
   },
   "source": [
    "\n",
    "\n",
    "#### 3.7.1 Numeric data\n",
    "- Integers\n",
    "    ```python\n",
    "    # Assign the number 1 to the variable `an_integer` with assignment operator `=`.\n",
    "    # Now, the variable `an_integer` has the value `1`.\n",
    "    an_integer = 1\n",
    "\n",
    "    # Alternatively, we could explicitly specify 1 is an integer using int()\n",
    "    an_interger = int(1)\n",
    "    ```\n",
    "- Floats \n",
    "    ```python\n",
    "    # Assign a floating point number to the variable `a_float` with assignment operator `=`.\n",
    "    # Now,the variable `a_float` represents the floating point number.\n",
    "    a_float = 1.4325\n",
    "\n",
    "    # Alternatively, we could explicitly specify 1.4325 is a float using float()\n",
    "    a_float = float(1.4325)\n",
    "    ```\n",
    "\n"
   ]
  },
  {
   "cell_type": "markdown",
   "metadata": {
    "colab_type": "text",
    "id": "STlnj0I7nyRq"
   },
   "source": [
    "#### 3.7.2 Textual data \n",
    "- Strings\n",
    "    ```python\n",
    "    # Assign a string `Hello` to the variable `greeting_text` with assignment operator `=`.\n",
    "    # Now, the variable `greeting_text` represents the string `Hello`.\n",
    "    greeting_text = \"Hello\"\n",
    "    ```\n",
    "Anything that is wrapped in quotation marks will be treated as a string. However, it is sometiems useful to convert numeric data into strings without using quotations. We can use `str()` to accomplish this.\n",
    "\n",
    "```python\n",
    "# Convert the value of an_integer to a string\n",
    "str(an_integer)\n",
    "\n",
    "# We can also pass raw numeric data to str() as well\n",
    "str(6174)\n",
    "```"
   ]
  },
  {
   "cell_type": "code",
   "execution_count": 68,
   "metadata": {
    "colab": {},
    "colab_type": "code",
    "id": "wqJOuybVoKxj"
   },
   "outputs": [
    {
     "name": "stdout",
     "output_type": "stream",
     "text": [
      "3\n"
     ]
    }
   ],
   "source": [
    "# Create some variables and assign some string or character data to them.\n",
    "# The variable names and content you assign to them are up to you!\n",
    "\n",
    "num = int(3.4)\n",
    "print(num)\n"
   ]
  },
  {
   "cell_type": "markdown",
   "metadata": {
    "colab_type": "text",
    "id": "09-NFfd1ny12"
   },
   "source": [
    "#### 3.7.3 Checking the data type of a variable\n",
    "What's the difference between `1` and `\"1\"`? Python interprets `1` as an integer and `\"1\"` as character or string data. When you print the value of a variable, the results are displayed as character data, which makes it difficult to confirm what the actual data type stored in a variable is.\n",
    "\n",
    "You can check the data type of any value using the `type()` function.\n",
    "```python\n",
    "# Assign the integer `1` to a variable `an_integer`\n",
    "# Assign the string `\"1\"` to a variable `a_string`\n",
    "# Confirm the data type or \"class' of each using `type()`\n",
    "an_integer = 1\n",
    "a_string = \"1\"\n",
    "type(an_integer)\n",
    "type(a_string)\n",
    "\n",
    "# Just to test that type works as expected, \n",
    "# let's convert a integer to a string and then check the type\n",
    "type(str(1))\n",
    "\n",
    "```\n",
    "\n",
    "> **Study Drill:** \n",
    ">\n",
    "> 1. Declare three variables and assign an integer, a float, and string to each.\n",
    "> 2. Return the value of each variable by typing the variable name.\n",
    "> 3. Try returing the value of each using the `print()` function.\n",
    "> 4. Confirm that the value stored in each of your variables is what it should be using the `type()` function.\n",
    ">\n",
    "> How do the results of calling the variable, printing the value of the variable, and testing the type of each variable differ?"
   ]
  },
  {
   "cell_type": "code",
   "execution_count": 69,
   "metadata": {
    "colab": {},
    "colab_type": "code",
    "id": "wdinP8G445Ap"
   },
   "outputs": [
    {
     "data": {
      "text/plain": [
       "float"
      ]
     },
     "execution_count": 69,
     "metadata": {},
     "output_type": "execute_result"
    }
   ],
   "source": [
    "type(str(1))\n",
    "\n",
    "type(float(1.2))\n"
   ]
  },
  {
   "cell_type": "markdown",
   "metadata": {
    "colab_type": "text",
    "id": "z_xNSf7G45At"
   },
   "source": [
    "### 3.8 Basic arithmetic\n",
    "\n",
    "- Addition `+`\n",
    "    - \n",
    "    ```python\n",
    "    2 + 2\n",
    "    ```\n",
    "- Subtraction `-`\n",
    "    - \n",
    "    ```python\n",
    "    4 - 2\n",
    "    ```\n",
    "- Division `/`\n",
    "    - \n",
    "    ```python\n",
    "    4 / 2\n",
    "    ```\n",
    "- Multiplication `*`\n",
    "    - \n",
    "    ```python\n",
    "    2 * 2\n",
    "    ```\n",
    "- Modulo `%`\n",
    "    - \n",
    "    ```python\n",
    "    5 % 2\n",
    "    ```\n",
    "    \n",
    "> **Study drill:**\n",
    ">\n",
    "> Find the answers of the above operations by using the cell below."
   ]
  },
  {
   "cell_type": "code",
   "execution_count": 70,
   "metadata": {
    "colab": {},
    "colab_type": "code",
    "id": "icqDBl0D45Av"
   },
   "outputs": [
    {
     "name": "stdout",
     "output_type": "stream",
     "text": [
      "4\n",
      "1.3333333333333333\n"
     ]
    }
   ],
   "source": [
    "print(16%6)\n",
    "\n",
    "print(float(4/3))\n"
   ]
  },
  {
   "cell_type": "markdown",
   "metadata": {
    "colab_type": "text",
    "id": "Ood5Wy8u45Az"
   },
   "source": [
    "### 3.9 Logical operators\n",
    " The data type returned by following are Boolean i.e., The output will be either True or False.\n",
    "- Less than   <\n",
    "    - \n",
    "    ```python\n",
    "    4 < 2\n",
    "    ```\n",
    "- Greater than  > \n",
    "    - \n",
    "    ```python\n",
    "    3 > 1\n",
    "    ```\n",
    "- Equals == \n",
    "    - \n",
    "    ```python\n",
    "    True == False\n",
    "    ```\n",
    "- Not equal != \n",
    "    - \n",
    "    ```python\n",
    "    2 != 2\n",
    "    ```\n",
    "- Less than or equal <= \n",
    "    - \n",
    "    ```python\n",
    "    3 <= 4\n",
    "    ```\n",
    "- Greater than or equal >= \n",
    "    - \n",
    "    ```python\n",
    "    3 >= 2\n",
    "    ```\n",
    "    \n",
    "> **Study drill:** \n",
    "> Evaluate each logical statement above. Use the below cell to run the each operation and get the answer (`True` or `False`). \n",
    ">\n",
    "> Hint: Run one line code each time."
   ]
  },
  {
   "cell_type": "code",
   "execution_count": 71,
   "metadata": {
    "colab": {},
    "colab_type": "code",
    "id": "ulvLkZdr45A1"
   },
   "outputs": [
    {
     "name": "stdout",
     "output_type": "stream",
     "text": [
      "False\n"
     ]
    }
   ],
   "source": [
    "print(4<2)\n"
   ]
  },
  {
   "cell_type": "markdown",
   "metadata": {
    "colab_type": "text",
    "id": "egKFlVuI45A4"
   },
   "source": [
    "## IV. Basic data structures\n",
    "\n",
    "In order to get the most value out Python, we will need to organize our data.\n",
    "Python has three basic data structures: \n",
    "1. Lists (mutable collections of objects)\n",
    "2. Tuples (immutable collection of objects)\n",
    "3. Dictionaries (collections of \"key-value\" pairs)\n",
    "\n"
   ]
  },
  {
   "cell_type": "markdown",
   "metadata": {
    "colab_type": "text",
    "id": "e1_XhLy3nkek"
   },
   "source": [
    "### 4.1 Lists\n",
    "\n",
    "- Lists are comma separated sequences of object enclosed in square brackets (`[..., ...]`)\n",
    "- Lists can contain different data types(variables, integers, floats, strings, etc.)\n",
    "\n",
    "Copy the following code to the below cell and use __\"Shift+Enter\"__ to run it:\n",
    "```python\n",
    "list_of_numbers = [1, 2, 3, 4, 5, 6]\n",
    "list_of_strings = ['a', 'b', 'c', 'd', 'e', 'f']\n",
    "list_of_mixed_types = [1, 'a', 2, 'b', 3.14, 'Section 4.1 - Lists']\n",
    "```"
   ]
  },
  {
   "cell_type": "code",
   "execution_count": 72,
   "metadata": {
    "colab": {},
    "colab_type": "code",
    "id": "H3_CgVkP45A5"
   },
   "outputs": [],
   "source": [
    "list_of_numbers = [1, 2, 3, 4, 5, 6]\n",
    "list_of_strings = ['a', 'b', 'c', 'd', 'e', 'f']\n",
    "list_of_mixed_types = [1, 'a', 2, 'b', 3.14, 'Section 4.1 - Lists']\n"
   ]
  },
  {
   "cell_type": "code",
   "execution_count": 73,
   "metadata": {
    "colab": {},
    "colab_type": "code",
    "id": "FhkjgfrIBeIA"
   },
   "outputs": [
    {
     "name": "stdout",
     "output_type": "stream",
     "text": [
      "[1, 2, 3, 4, 5, 6]\n",
      "['a', 'b', 'c', 'd', 'e', 'f']\n",
      "[1, 'a', 2, 'b', 3.14, 'Section 4.1 - Lists']\n",
      "3.14\n"
     ]
    }
   ],
   "source": [
    "print(list_of_numbers)\n",
    "print(list_of_strings)\n",
    "print(list_of_mixed_types)\n",
    "\n",
    "print(list_of_mixed_types[4])\n"
   ]
  },
  {
   "cell_type": "markdown",
   "metadata": {
    "colab_type": "text",
    "id": "yTBTPE6E45A9"
   },
   "source": [
    "#### 4.1.1 List indexes\n",
    "- Lists are unordered sequences of elements, i.e. by default, the value of an element has no impact on its position within the list.\n",
    "- Each element can be accessed using a positional index (__Note: Python indexes start with 0__).\n",
    "- The syntax for accessing list elements by index position is `name_of_list[index]`\n",
    "- Copy the following code to the below cell and use \"**Shift+Enter**\" to run it:\n",
    "\n",
    "```python\n",
    "# Below code will get the first element of `list_of_numbers` list\n",
    "list_of_numbers[0]\n",
    "```"
   ]
  },
  {
   "cell_type": "code",
   "execution_count": 74,
   "metadata": {
    "colab": {},
    "colab_type": "code",
    "id": "M4SdVjTa45A_"
   },
   "outputs": [
    {
     "data": {
      "text/plain": [
       "1"
      ]
     },
     "execution_count": 74,
     "metadata": {},
     "output_type": "execute_result"
    }
   ],
   "source": [
    "list_of_numbers[0]\n"
   ]
  },
  {
   "cell_type": "markdown",
   "metadata": {
    "colab_type": "text",
    "id": "gGVZi2mV45BC"
   },
   "source": [
    "> **Study Drill:**\n",
    ">\n",
    ">- What is the __2nd__ element of `list_of_numbers`?\n",
    ">- What is the __5th__ element of `list_of_strings`?\n",
    ">- What are the __2nd and 4th__ elements of `list_of_mixed_types`?\n"
   ]
  },
  {
   "cell_type": "code",
   "execution_count": 75,
   "metadata": {
    "colab": {},
    "colab_type": "code",
    "id": "BcpKpt1445BC"
   },
   "outputs": [
    {
     "name": "stdout",
     "output_type": "stream",
     "text": [
      "2\n",
      "e\n",
      "a b\n"
     ]
    }
   ],
   "source": [
    "print(list_of_numbers[1])\n",
    "print(list_of_strings[4])\n",
    "print(list_of_mixed_types[1], list_of_mixed_types[3])\n"
   ]
  },
  {
   "cell_type": "markdown",
   "metadata": {
    "colab_type": "text",
    "collapsed": true,
    "id": "L11FsVr245BH"
   },
   "source": [
    "#### 4.1.2 Append a list\n",
    "\n",
    "- We can use the `append` method to add a element to the end of a list. \n",
    "- __Methods__ are a way to interact with an object such as a list. \n",
    "- We can use a method using dot notation (`object.method()`). Type the name of the ojbect followed by `.` and then the method name and `()`. Some methods can accept arguments, which are placed in between the parentheses.\n",
    "\n",
    "```python\n",
    "# Add `element` to the list `Listname`\n",
    "Listname.append(element)\n",
    "```\n",
    "Copy following code to the below cell and use \"Shift+Enter\" to run it:\n",
    "\n",
    "```python\n",
    "  # Create a list\n",
    "  some_list = [1, 2, 3, 4, 5, 6]\n",
    "    \n",
    "  # Add the element \"7\" to the list\n",
    "  some_list.append(7)\n",
    "    \n",
    "  # Print all elements in the list\n",
    "  print(some_list)\n",
    "```"
   ]
  },
  {
   "cell_type": "code",
   "execution_count": 76,
   "metadata": {
    "colab": {},
    "colab_type": "code",
    "id": "zIBC39Hy45BI"
   },
   "outputs": [
    {
     "name": "stdout",
     "output_type": "stream",
     "text": [
      "[1, 2, 3, 4, 5, 6, 7]\n"
     ]
    }
   ],
   "source": [
    "some_list = [1,2,3,4,5,6]\n",
    "some_list.append(7)\n",
    "print(some_list)\n"
   ]
  },
  {
   "cell_type": "markdown",
   "metadata": {
    "colab_type": "text",
    "id": "TEcfPpWj45BL"
   },
   "source": [
    "#### 4.1.3 Insert an element into a list\n",
    "\n",
    "- We can use the `insert()` method to insert an element to any part of the list using an index number. \n",
    "- The first argument of the `insert()` method is the element position you want to insert (__Note: Python indexes start with 0__).\n",
    "- Copy following code to the cell below and use \"Shift+Enter\" to run it:\n",
    "\n",
    "```python\n",
    "# Create a list\n",
    "another_list = [1, 2, 3, 4, 5, 6]\n",
    "\n",
    "# Add the element \"10\" as the first element of the list\n",
    "another_list.insert(0, 10)\n",
    "\n",
    "# Print the elements in the list\n",
    "print(another_list)\n",
    "```"
   ]
  },
  {
   "cell_type": "code",
   "execution_count": 77,
   "metadata": {
    "colab": {},
    "colab_type": "code",
    "id": "aqkk1E-v45BM"
   },
   "outputs": [
    {
     "name": "stdout",
     "output_type": "stream",
     "text": [
      "[10, 1, 2, 3, 4, 5, 6]\n"
     ]
    }
   ],
   "source": [
    "another_list = [1,2,3,4,5,6]\n",
    "another_list.insert(0,10)\n",
    "print(another_list)\n"
   ]
  },
  {
   "cell_type": "markdown",
   "metadata": {
    "colab_type": "text",
    "id": "ojvEAayT45BQ"
   },
   "source": [
    "#### 4.1.4 Removing elements from a list\n",
    "\n",
    "- We can use the `remove()` method to remove an element from any part of the list. \n",
    "- In this example, the `remove()` method takes a single argument which is the postion of the element you want to remove (__Note: Python indexes start with 0__).\n",
    "- Copy following code to the below cell and use\"Shift+Enter\" to run it:\n",
    "\n",
    "```python\n",
    "# Create a list\n",
    "spam_numbers = [1, 2, 3, 4, 5, 6]\n",
    "\n",
    "# Remove the element at index 2\n",
    "spam_numbers.remove(2)\n",
    "\n",
    "# Print the elements in the list\n",
    "print(spam_numbers)\n",
    "```"
   ]
  },
  {
   "cell_type": "code",
   "execution_count": 78,
   "metadata": {
    "colab": {},
    "colab_type": "code",
    "id": "QI0ZnVC945BR"
   },
   "outputs": [
    {
     "name": "stdout",
     "output_type": "stream",
     "text": [
      "[1, 2, 4, 5, 6]\n"
     ]
    }
   ],
   "source": [
    "spam_numbers = [1,2,3.4,4,5,6]\n",
    "spam_numbers.remove(3.4)\n",
    "print(spam_numbers)\n"
   ]
  },
  {
   "cell_type": "markdown",
   "metadata": {
    "colab_type": "text",
    "id": "XxM_lJ0k45BT"
   },
   "source": [
    "#### 4.1.5 List slicing\n",
    "\n",
    "- If we only want to print some elements of the list, but not all of them, we can \"slice\" the list.\n",
    "- List slicing uses two index numbers separated by a colon to specify a range of elements.\n",
    "- The range you use to slice a list will return the first specified element *up to, but not including,* the second element.\n",
    "- Copy following code to the cell below and use \"Shift+Enter\" to run it:\n",
    "\n",
    "```python\n",
    "# Create a list\n",
    "list_to_slice = [1, 2, 3, 4, 5, 6]\n",
    "\n",
    "# Print the 2nd element of the List\n",
    "print(list_to_slice[1])\n",
    "\n",
    "# Print the 2nd and 3rd elements of the List\n",
    "print(list_to_slice[1:3])\n",
    "\n",
    "# Print the all elements before 3rd element in the List.\n",
    "print(list_to_slice[:3])\n",
    "\n",
    "# Print the all elements after 2nd element in the List.\n",
    "print(list_to_slice[2:])\n",
    "```"
   ]
  },
  {
   "cell_type": "code",
   "execution_count": 79,
   "metadata": {
    "colab": {},
    "colab_type": "code",
    "id": "71s05MDl45BU"
   },
   "outputs": [
    {
     "name": "stdout",
     "output_type": "stream",
     "text": [
      "[1, 2]\n",
      "[3, 4, 5, 6]\n"
     ]
    }
   ],
   "source": [
    "list_to_slice = [1,2,3,4,5,6]\n",
    "print(list_to_slice[:2])\n",
    "print(list_to_slice[2:])\n"
   ]
  },
  {
   "cell_type": "markdown",
   "metadata": {
    "colab_type": "text",
    "id": "HCt0CfEZ45BX"
   },
   "source": [
    "> **Study Drill:**\n",
    ">\n",
    "> What did you notice about the syntax for slicing the list to return the 2nd and 3rd elements of the list?\n",
    ">\n",
    "> Create a list in the below cell: `practice_list = [1, 2, 4, 5, 6]`\n",
    ">    - Insert a \"3\" into the third position in the list\n",
    ">    - Remove last element of the list\n",
    ">    - Append a \"7\" to the list\n",
    ">    - Print all elements\n",
    ">    - What happens if you don't use the `print()` function? Try to return the first element of `practice_list` without using the `print` statement."
   ]
  },
  {
   "cell_type": "code",
   "execution_count": 80,
   "metadata": {
    "colab": {},
    "colab_type": "code",
    "id": "-YIwj8wd45BZ"
   },
   "outputs": [
    {
     "name": "stdout",
     "output_type": "stream",
     "text": [
      "[1, 2, 3, 3, 4, 5, 7]\n"
     ]
    }
   ],
   "source": [
    "practice_list = [1,2,3,4,5,6]\n",
    "practice_list.insert(2,3)\n",
    "practice_list.remove(len(practice_list) - 1)\n",
    "practice_list.append(7)\n",
    "print(practice_list)\n"
   ]
  },
  {
   "cell_type": "markdown",
   "metadata": {
    "colab_type": "text",
    "id": "GeU_Fa_745Bb"
   },
   "source": [
    "### 4.2 Tuples\n",
    "- Tuples are enclosed in parentheses`()` and values are sperated by commas `,`.\n",
    "- Copy the following code to the below cell and use __\"Shift+Enter\"__ to run it:\n",
    "```python\n",
    "spam_tuple = (1, 2, 3, 4, 5, 6)\n",
    "```\n",
    "\n",
    "> **Study drill:**\n",
    ">\n",
    "> How do lists and tuples differ?\n",
    ">\n",
    "> Try using a list method on a tuple. What happens?\n"
   ]
  },
  {
   "cell_type": "code",
   "execution_count": 81,
   "metadata": {
    "colab": {},
    "colab_type": "code",
    "id": "X9Rf8xLZVs9C"
   },
   "outputs": [],
   "source": [
    "spam_tuple = (1,2,3,4,5,6)\n"
   ]
  },
  {
   "cell_type": "markdown",
   "metadata": {
    "colab_type": "text",
    "id": "l8OHSs6W45Bc"
   },
   "source": [
    "### 4.3 Dictionaries\n",
    "- A Dictionary is a structure that stores pairs of objects, e.g. keys and values.\n",
    "- Dictionaries are like lists, except that you index them with keys. \n",
    "- Keys have to be unique within the dictionary and named using something immutable, such as a tuple, string, or integer.\n",
    "- Dictionaries are enclosed in curly braces `{}` and keys are separated from values using a colon.\n",
    "- Copy following code to the below cell and use\"Shift+Enter\" to run it:\n",
    "\n",
    "```python\n",
    "# A Dictionary\n",
    "days_of_the_week = {1: 'Monday', 2: 'Tuesday', 3: 'Wednesday', 4: 'Thursday', 5: 'Friday', 6: 'Saturday', 7: 'Sunday'}\n",
    "\n",
    "# Print the paired value of the key \"2\"\n",
    "print(days_of_the_week[2])\n",
    "```"
   ]
  },
  {
   "cell_type": "code",
   "execution_count": 82,
   "metadata": {
    "colab": {},
    "colab_type": "code",
    "id": "agvDZwoz45Bc"
   },
   "outputs": [
    {
     "name": "stdout",
     "output_type": "stream",
     "text": [
      "Tuesday\n"
     ]
    }
   ],
   "source": [
    "days_of_the_week = {1: 'Monday', 2: 'Tuesday', 3: 'Wednesday', 4: 'Thursday', 5: 'Friday', 6: 'Saturday', 7: 'Sunday'}\n",
    "\n",
    "print(days_of_the_week[2])\n"
   ]
  },
  {
   "cell_type": "markdown",
   "metadata": {
    "colab_type": "text",
    "id": "1OfZDStgXm9e"
   },
   "source": [
    "You can assign a new value to a key using the following syntax: `days_of_the_week[1] = 'Sunday'`\n",
    "\n",
    "> **Study drill:**\n",
    ">\n",
    "> Update the values of `days_of_the_week` accordingly so that the week begins on Sunday.\n"
   ]
  },
  {
   "cell_type": "code",
   "execution_count": 83,
   "metadata": {
    "colab": {},
    "colab_type": "code",
    "id": "mIALOM2DaCeh"
   },
   "outputs": [
    {
     "data": {
      "text/plain": [
       "{1: 'Sunday',\n",
       " 2: 'Tuesday',\n",
       " 3: 'Wednesday',\n",
       " 4: 'Thursday',\n",
       " 5: 'Friday',\n",
       " 6: 'Saturday',\n",
       " 7: 'Sunday'}"
      ]
     },
     "execution_count": 83,
     "metadata": {},
     "output_type": "execute_result"
    }
   ],
   "source": [
    "days_of_the_week[1] = 'Sunday'\n",
    "days_of_the_week\n"
   ]
  },
  {
   "cell_type": "markdown",
   "metadata": {
    "colab_type": "text",
    "id": "0EMTGEldnXRA"
   },
   "source": [
    "## V. Flow control: a.k.a. 'loops'\n",
    "Loops allow you to repeat a block of code or perform an action multiple times until a specified condition terminates the loop. We will cover three different types of flow control:\n",
    "\n",
    "1. The `while` loop\n",
    "2. The `for` loop\n",
    "3. The `if-else` statement"
   ]
  },
  {
   "cell_type": "markdown",
   "metadata": {
    "colab_type": "text",
    "id": "Dz8Q7LSl45Bf"
   },
   "source": [
    "### 5.1 The `while` loop\n",
    "- Repeats a statement or group of statements while a given condition is `True`. \n",
    "- Useful for when a condition needs to be checked each iteration, or to repeat a block of code numerous times.\n",
    "\n",
    "  ![WhileLoop](https://raw.githubusercontent.com/drdn/intro_python_module/master/assets/python_while_loop.jpg)\n",
    "    > Image credit: Tutorialspoint.com\n",
    "\n",
    "- Copy the following code to the below cell and use __\"Shift+Enter\"__ to run it:\n",
    "\n",
    "```python \n",
    "# Assign the value `0` to a variable named `eggs`\n",
    "eggs = 0\n",
    "\n",
    "# Write a while loop that continues until the value of `eggs` is less than 10\n",
    "while eggs < 10:\n",
    "  # Increment the value of `eggs` by `1`\n",
    "  eggs = eggs + 1\n",
    "  # Print the current value of `eggs`\n",
    "  print(eggs)\n",
    "```"
   ]
  },
  {
   "cell_type": "code",
   "execution_count": 84,
   "metadata": {
    "colab": {},
    "colab_type": "code",
    "id": "Kx4NDOzo45Bg"
   },
   "outputs": [
    {
     "name": "stdout",
     "output_type": "stream",
     "text": [
      "1\n",
      "2\n",
      "3\n",
      "4\n",
      "5\n",
      "6\n",
      "7\n",
      "8\n",
      "9\n",
      "10\n"
     ]
    }
   ],
   "source": [
    "eggs = 0\n",
    "\n",
    "while eggs < 10:\n",
    "    eggs += 1\n",
    "    print(eggs)\n",
    "\n",
    "\n",
    "\n"
   ]
  },
  {
   "cell_type": "markdown",
   "metadata": {
    "colab_type": "text",
    "id": "m6OD1Kn345Bj"
   },
   "source": [
    "### 5.2 The `for` loop\n",
    "- `for` loops are traditionally used when you have a block of code that you want to repeat a fixed number of times. \n",
    "- In Python, the `for` statement iterates over the members of a sequence in order, executing the block each time.\n",
    "\n",
    "  ![ForLoop](https://raw.githubusercontent.com/drdn/intro_python_module/master/assets/python_for_loop.jpg)\n",
    "  > Image credit: Tutorialspoint.com\n",
    "\n",
    "- Copy the following code to the cell below and use __\"Shift+Enter\"__ to run it:\n",
    "```python\n",
    "# A for loop\n",
    "numbers = 0\n",
    "for i in range(10):\n",
    "    numbers = numbers + 1\n",
    "    print(numbers)\n",
    "```"
   ]
  },
  {
   "cell_type": "code",
   "execution_count": 85,
   "metadata": {
    "colab": {},
    "colab_type": "code",
    "id": "SeeHukco45Bj"
   },
   "outputs": [
    {
     "name": "stdout",
     "output_type": "stream",
     "text": [
      "1\n",
      "2\n",
      "3\n",
      "4\n",
      "5\n",
      "6\n",
      "7\n",
      "8\n",
      "9\n",
      "10\n"
     ]
    }
   ],
   "source": [
    "numbers = 0\n",
    "\n",
    "for i in range(10):\n",
    "    numbers += 1\n",
    "    print(numbers)\n"
   ]
  },
  {
   "cell_type": "markdown",
   "metadata": {
    "colab_type": "text",
    "id": "qIKZuXRbfx74"
   },
   "source": [
    "> **Study drill:**\n",
    ">\n",
    "> Our example of a `while` loop and a `for` loop are very similar. What's the difference?\n",
    ">\n",
    "> The `for` loop also introduced the `range()` function. Can you guess what it does?"
   ]
  },
  {
   "cell_type": "markdown",
   "metadata": {
    "colab_type": "text",
    "id": "hv_s63rF45Bm"
   },
   "source": [
    "### 5.3 The `if-else` statement\n",
    "The `if-else` statement is a powerful way to create multiple outcomes for the same piece of code. Some examples how the `if-else` statement can be used:\n",
    "- Return different text for even and odd values.\n",
    "- Write placeholder text to a spreadsheet in the event of an error or unexpected value.\n",
    "- Test a string for specific formatting, such as an email address, and if the email is incorrectly formatted, prompt a user to re-enter their email address.\n",
    "\n",
    "  ![IfELSE](https://raw.githubusercontent.com/drdn/intro_python_module/master/assets/decision_making.jpg)\n",
    "    > Image credit: Tutorialspoint.com\n",
    "\n",
    "- Copy the following code to the below cell and use __\"Shift+Enter\"__ to run it.\n",
    "- On the first run, enter a value greater than 50.\n",
    "- Run the code again with __\"Shift+Enter\"__ and enter a value less than 50\n",
    "\n",
    "```python\n",
    "# Define a Variable \"Weight\" \n",
    "weight = float(input(\"How many pounds does your suitcase weigh? \"))\n",
    "\n",
    "# If Statement: Judge if weight over than 50 lbs\n",
    "if weight > 50:\n",
    "\n",
    "    # If the value we input here is bigger 50 would print following statement\n",
    "    print(\"There is a $25 charge for luggage that heavy.\")\n",
    "    \n",
    "else:\n",
    "    # If the value we input here is less than 50, would print following statement\n",
    "    print(\"There is no charge for your luggage. Thanks!\")\n",
    "```"
   ]
  },
  {
   "cell_type": "code",
   "execution_count": 89,
   "metadata": {
    "colab": {},
    "colab_type": "code",
    "id": "Bsn4qUQ745Bn"
   },
   "outputs": [
    {
     "name": "stdout",
     "output_type": "stream",
     "text": [
      "There is a $25 charge for luggage that heavy.:\n"
     ]
    }
   ],
   "source": [
    "weight = float(input(\"How many pounds does your suitcase wight? \"))\n",
    "\n",
    "if weight > 50:\n",
    "    print(\"There is a $25 charge for luggage that is heavy.\")\n",
    "else:\n",
    "    print(\"There is no charge for your luggage. Thanks!\")\n"
   ]
  },
  {
   "cell_type": "markdown",
   "metadata": {
    "colab_type": "text",
    "id": "BBae48yz45Bp"
   },
   "source": [
    "## VI. Functions\n",
    "\n",
    "A function is a block of organized, reusable code that is used to perform a specific task. Using functions is beneficial and introduce modularity and reusability of the same code. \n",
    "\n",
    "For example, `print()` is a function; it performs the same action everytime, but there is a lot of code that we don't see. \n",
    "\n",
    "We can create our own functions in Python.\n",
    "\n",
    "- Functions have to be defined using the `def` keyword. \n",
    "- The entire body of the function is indented.\n",
    "- It is good practice to include a multi-line comment known as a 'docstring' which explains what the function does and what the requirements are.\n",
    "\n",
    "We're going to create a simple function that prompts a user for two numbers and then returns the sum."
   ]
  },
  {
   "cell_type": "code",
   "execution_count": 90,
   "metadata": {
    "colab": {},
    "colab_type": "code",
    "id": "oi0VoKV045Bq"
   },
   "outputs": [],
   "source": [
    "# Shift+Enter to run this code\n",
    "def interactive_addition():\n",
    "  '''\n",
    "  The arguments passed to this function will be summmed \n",
    "  and returned.\"\n",
    "  ''' \n",
    "  # Prompt a user to input the values of a and b\n",
    "  a = float(input(\"Please input the first number: \"))\n",
    "  b = float(input(\"Please input the second number: \"))\n",
    "\n",
    "  # Do the math\n",
    "  result = a + b\n",
    "  return result\n"
   ]
  },
  {
   "cell_type": "code",
   "execution_count": 91,
   "metadata": {
    "colab": {},
    "colab_type": "code",
    "id": "wKsm7r1smmCb"
   },
   "outputs": [
    {
     "data": {
      "text/plain": [
       "7.0"
      ]
     },
     "execution_count": 91,
     "metadata": {},
     "output_type": "execute_result"
    }
   ],
   "source": [
    "# Run the cell above and then call the function `interactive_addition()`\n",
    "interactive_addition()"
   ]
  },
  {
   "cell_type": "markdown",
   "metadata": {
    "colab_type": "text",
    "id": "tE6UGCekokR7"
   },
   "source": [
    "This function is useful if you want to perform interactive addition. Notice that there are no arguments required in function definition.\n",
    "\n",
    "If you wanted to create something more reusable, remove the input prompts and add arguments to the function definition.\n",
    "\n",
    "For example:\n",
    "\n",
    "```python\n",
    "def add_two_numbers(a, b):\n",
    "  '''Returns the sum of two numbers.'''\n",
    "  result = float(a) + float(b)\n",
    "  return result\n",
    "```\n",
    "\n",
    "> **Study drill:**\n",
    ">\n",
    "> 1. Add two numbers using the `add_two_numbers` function.\n",
    "> 2. Create a new function called `add_terms` which sums three terms.\n",
    "> 3. Edit the `return` statement to print a message along with the result. (**Hint:** Use the following syntax `print(\"Message\", result)` "
   ]
  },
  {
   "cell_type": "code",
   "execution_count": 92,
   "metadata": {
    "colab": {},
    "colab_type": "code",
    "id": "i1shIN7ZsjoU"
   },
   "outputs": [
    {
     "data": {
      "text/plain": [
       "18.0"
      ]
     },
     "execution_count": 92,
     "metadata": {},
     "output_type": "execute_result"
    }
   ],
   "source": [
    "# Practice writing functions here\n",
    "def add_two_numbers(a,b):\n",
    "    '''Returns the sum of two numbers'''\n",
    "    result = float(a) + float(b)\n",
    "    return result\n",
    "\n",
    "add_two_numbers(6,12)"
   ]
  },
  {
   "cell_type": "markdown",
   "metadata": {
    "colab_type": "text",
    "id": "cDdB6Xk945Bs"
   },
   "source": [
    "## VII. Importing modules and data\n",
    "\n",
    "Python only loads a set of basic libraries on startup, but there are a lot more available in both the default Python distribution and from the Python community. Although a specific module/library may be installed on your computer, you cannot access the code until you `import` it. The `import` statement has a simple syntax: `import nameOfModule`.\n",
    "\n",
    "- The following code shows how to import two modules:\n",
    "  1. Pandas, a popular data analysis library, and\n",
    "  2. NumPy, a scientific computing library\n",
    "\n",
    "```python\n",
    "# Import Pandas\n",
    "import pandas\n",
    "# Import NumPy\n",
    "import numpy\n",
    "```\n",
    "- There is nothing wrong with your code if Pandas or Numpy are imported this way. However, if you were to use any of the functions from either one of these modules, you would have to type the full name each time, e.g. `pandas.read_csv()`.\n",
    "- To save a few keystrokes, you can give modules a short alias. Pandas is commonly imported as `pd` and Numpy as `np`. Knowing these conventions is also useful when reusing other people's code.\n",
    "\n",
    "```python\n",
    "import pandas as pd\n",
    "import numpy as np\n",
    "```\n",
    "\n"
   ]
  },
  {
   "cell_type": "markdown",
   "metadata": {
    "colab_type": "text",
    "id": "kiZejA1qnFbl"
   },
   "source": [
    "### 7.1 Import a plain text file (CSV)\n",
    "A comma-separated values (CSV) file stores tabular data as plain text with distinct records on each line and each record containg one or more fields or values. The use of the comma as a field separator is the source of the name for this file format.\n",
    "\n",
    "- There are several ways to read CSV files into Python, but we will be using Pandas here for its simplicity.\n",
    "- Pandas stores tabular data in data structures known as 'data frames.' A common convention is to assign data frames to variables with `df` in the variable name.\n",
    "- Copy the following code to the below cell and use __\"Shift+Enter\"__ to run it\n",
    "\n",
    "  ```python\n",
    "  import pandas as pd\n",
    "  data = pd.read_csv('https://raw.githubusercontent.com/drdn/intro_python_module/master/data/data.csv')\n",
    "  print(data)\n",
    "  ```\n",
    "  **Note:** The data file is being sourced from a URL. We could also read the file from a local filesystem or even from Google Drive! The file is provided to you in this manner to account for differences in operating systems and varying levels of familiarity with navigating file systems."
   ]
  },
  {
   "cell_type": "code",
   "execution_count": 93,
   "metadata": {
    "colab": {},
    "colab_type": "code",
    "id": "-c4cUBdE45Bt"
   },
   "outputs": [
    {
     "name": "stdout",
     "output_type": "stream",
     "text": [
      "                   Qatar  10.7\n",
      "0   United Arab Emirates  10.7\n",
      "1                Bahrain  10.7\n",
      "2                 Kuwait  10.7\n",
      "3              Singapore  10.7\n",
      "4             Luxembourg  10.7\n",
      "5            South Sudan  10.7\n",
      "6                 Jordan  10.7\n",
      "7                   Oman  10.7\n",
      "8              Australia  10.7\n"
     ]
    }
   ],
   "source": [
    "import pandas as pd\n",
    "data = pd.read_csv('https://raw.githubusercontent.com/drdn/intro_python_module/master/data/data.csv')\n",
    "\n",
    "print(data)\n"
   ]
  },
  {
   "cell_type": "markdown",
   "metadata": {
    "colab_type": "text",
    "id": "E5MVIwWF45Bv"
   },
   "source": [
    "### 7.2 Import Excel files (with multiple worksheets)\n",
    "\n",
    "CSV files are a platform independent spreadsheet format. However, you might create data using Excel or receive data in an Excel format. Pandas has a function specifically for reading Excel data.\n",
    "\n",
    "- Copy the following code to the below cell and use __\"Shift+Enter\"__ to run it\n",
    "\n",
    "```python\n",
    "# Import pandas\n",
    "import pandas as pd\n",
    "\n",
    "# Store the data file name in the `file` variable\n",
    "file = 'https://github.com/drdn/intro_python_module/blob/master/data/UN_Data.xltx?raw=true'\n",
    "\n",
    "# Read the Excel file using the `ExcelFile` function\n",
    "# Store the data in the `UN` variable\n",
    "UN = pd.ExcelFile(file)\n",
    "\n",
    "# Excel files have a `sheet_names` attribute\n",
    "# Find the names of the sheets in the `UN` Excel object\n",
    "UN.sheet_names\n",
    "\n",
    "# Use the `.parse()` method on an Excel file to extract a specific sheet\n",
    "df_HDI = UN.parse('HDI')\n",
    "\n",
    "# Print the contents of df_HDI to the console\n",
    "print(df_HDI)\n",
    "```"
   ]
  },
  {
   "cell_type": "code",
   "execution_count": 97,
   "metadata": {
    "colab": {},
    "colab_type": "code",
    "id": "iexbUmm0Lgiu"
   },
   "outputs": [
    {
     "name": "stdout",
     "output_type": "stream",
     "text": [
      "    Human Development Index (HDI)                           Unnamed: 1  \\\n",
      "0                 HDI Rank (2015)                              Country   \n",
      "1                             169                          Afghanistan   \n",
      "2                              75                              Albania   \n",
      "3                              83                              Algeria   \n",
      "4                              32                              Andorra   \n",
      "..                            ...                                  ...   \n",
      "184                            71   Venezuela (Bolivarian Republic of)   \n",
      "185                           115                             Viet Nam   \n",
      "186                           168                                Yemen   \n",
      "187                           139                               Zambia   \n",
      "188                           154                             Zimbabwe   \n",
      "\n",
      "     Unnamed: 2  Unnamed: 3  Unnamed: 4  Unnamed: 5  Unnamed: 6  Unnamed: 7  \\\n",
      "0      1990.000    1991.000    1992.000    1993.000    1994.000    1995.000   \n",
      "1         0.295       0.300       0.309       0.305       0.300       0.324   \n",
      "2         0.635       0.618       0.603       0.608       0.616       0.628   \n",
      "3         0.577       0.581       0.587       0.591       0.595       0.600   \n",
      "4           NaN         NaN         NaN         NaN         NaN         NaN   \n",
      "..          ...         ...         ...         ...         ...         ...   \n",
      "184       0.634       0.644       0.650       0.653       0.654       0.658   \n",
      "185       0.477       0.486       0.498       0.508       0.519       0.531   \n",
      "186       0.405       0.408       0.412       0.414       0.418       0.421   \n",
      "187       0.398       0.396       0.397       0.402       0.401       0.405   \n",
      "188       0.499       0.501       0.486       0.479       0.475       0.465   \n",
      "\n",
      "     Unnamed: 8  Unnamed: 9  ...  Unnamed: 18  Unnamed: 19  Unnamed: 20  \\\n",
      "0      1996.000    1997.000  ...     2006.000     2007.000     2008.000   \n",
      "1         0.328       0.332  ...        0.415        0.433        0.434   \n",
      "2         0.637       0.636  ...        0.703        0.713        0.721   \n",
      "3         0.609       0.617  ...        0.690        0.697        0.705   \n",
      "4           NaN         NaN  ...          NaN          NaN          NaN   \n",
      "..          ...         ...  ...          ...          ...          ...   \n",
      "184       0.660       0.664  ...        0.728        0.745        0.754   \n",
      "185       0.542       0.542  ...        0.625        0.633        0.641   \n",
      "186       0.424       0.428  ...        0.477        0.480        0.483   \n",
      "187       0.408       0.411  ...        0.492        0.504        0.518   \n",
      "188       0.460       0.451  ...        0.414        0.421        0.419   \n",
      "\n",
      "     Unnamed: 21  Unnamed: 22  Unnamed: 23  Unnamed: 24  Unnamed: 25  \\\n",
      "0       2009.000     2010.000     2011.000     2012.000     2013.000   \n",
      "1          0.448        0.454        0.463        0.470        0.476   \n",
      "2          0.725        0.738        0.752        0.759        0.761   \n",
      "3          0.714        0.724        0.732        0.737        0.741   \n",
      "4            NaN        0.819        0.819        0.843        0.850   \n",
      "..           ...          ...          ...          ...          ...   \n",
      "184        0.754        0.756        0.767        0.770        0.771   \n",
      "185        0.647        0.655        0.662        0.668        0.675   \n",
      "186        0.488        0.493        0.494        0.498        0.500   \n",
      "187        0.533        0.543        0.554        0.565        0.570   \n",
      "188        0.436        0.452        0.464        0.488        0.498   \n",
      "\n",
      "     Unnamed: 26  Unnamed: 27  \n",
      "0       2014.000     2015.000  \n",
      "1          0.479        0.479  \n",
      "2          0.762        0.764  \n",
      "3          0.743        0.745  \n",
      "4          0.857        0.858  \n",
      "..           ...          ...  \n",
      "184        0.769        0.767  \n",
      "185        0.678        0.683  \n",
      "186        0.499        0.482  \n",
      "187        0.576        0.579  \n",
      "188        0.507        0.516  \n",
      "\n",
      "[189 rows x 28 columns]\n"
     ]
    }
   ],
   "source": [
    "import pandas as pd\n",
    "\n",
    "# Store the data file name in the `file` variable\n",
    "file = 'https://github.com/drdn/intro_python_module/blob/master/data/UN_Data.xltx?raw=true'\n",
    "\n",
    "# Read the Excel file using the `ExcelFile` function\n",
    "# Store the data in the `UN` variable\n",
    "UN = pd.ExcelFile(file)\n",
    "\n",
    "# Excel files have a `sheet_names` attribute\n",
    "# Find the names of the sheets in the `UN` Excel object\n",
    "UN.sheet_names\n",
    "\n",
    "# Use the `.parse()` method on an Excel file to extract a specific sheet\n",
    "df_HDI = UN.parse('HDI')\n",
    "\n",
    "# Print the contents of df_HDI to the console\n",
    "print(df_HDI)"
   ]
  },
  {
   "cell_type": "markdown",
   "metadata": {
    "colab_type": "text",
    "id": "HbSZJYueMVn2"
   },
   "source": [
    "## VII. The End!\n",
    "\n",
    "Congratulations! You've completed the first section of the Intro to Python online learning module!\n",
    "\n",
    "Take a break, and when you're ready, continue on to the next section, [Working with Data using Python and Pandas]()!"
   ]
  },
  {
   "cell_type": "markdown",
   "metadata": {
    "colab_type": "text",
    "id": "XLK5v8YPjDPT"
   },
   "source": [
    "## References:\n",
    "- Data Carpentry : http://www.datacarpentry.org/python-ecology-lesson/00-short-introduction-to-Python/\n",
    "- Tutorials Point: https://www.tutorialspoint.com/python/\n",
    "- Python 3 Document: https://docs.python.org/3/\n",
    "- Matplotlib: https://matplotlib.org/\n",
    "- Data Camp: https://www.datacamp.com/\n",
    "- Plotly: https://plot.ly/\n",
    "- Sentdex Youtube Channel : https://www.youtube.com/user/sentdex\n",
    "- UN Human Developments Data :http://hdr.undp.org/en/data#\n",
    "- WIKIPEDIA : https://www.wikipedia.org/\n",
    "\n",
    "**Take your learning further:**\n",
    "\n",
    "* [Learn Python the Hard Way](https://learncodethehardway.org/python/)\n",
    "* [Python Crash Course](https://ehmatthes.github.io/pcc/)"
   ]
  },
  {
   "cell_type": "code",
   "execution_count": null,
   "metadata": {
    "colab": {},
    "colab_type": "code",
    "id": "20uxCIgWLxoV"
   },
   "outputs": [],
   "source": [
    "# Enter whatever code you want to here!"
   ]
  }
 ],
 "metadata": {
  "colab": {
   "collapsed_sections": [],
   "name": "1-Intro-to-Python.ipynb",
   "provenance": [],
   "toc_visible": true
  },
  "kernelspec": {
   "display_name": "Python 3 (ipykernel)",
   "language": "python",
   "name": "python3"
  },
  "language_info": {
   "codemirror_mode": {
    "name": "ipython",
    "version": 3
   },
   "file_extension": ".py",
   "mimetype": "text/x-python",
   "name": "python",
   "nbconvert_exporter": "python",
   "pygments_lexer": "ipython3",
   "version": "3.9.7"
  }
 },
 "nbformat": 4,
 "nbformat_minor": 1
}
