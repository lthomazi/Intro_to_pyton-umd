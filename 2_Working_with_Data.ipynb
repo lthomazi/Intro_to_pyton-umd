{
 "cells": [
  {
   "cell_type": "markdown",
   "metadata": {
    "colab_type": "text",
    "id": "Tb7p4Pj2WljQ"
   },
   "source": [
    "# Working with data: Matplotlib, Pandas, and NumPy"
   ]
  },
  {
   "cell_type": "markdown",
   "metadata": {
    "colab_type": "text",
    "id": "ZgSnIr5WU7dQ"
   },
   "source": [
    "\n",
    "\n",
    "## I. Introduction\n",
    "\n",
    "1. All code and examples use Python 3.x\n",
    "2. We will use the following Python packages:\n",
    "  - Pandas \n",
    "  - Matplotlib\n",
    "  - Numpy\n",
    "3. General instructions:\n",
    "  - Some sections may contain a study drill, which is a small exercise to help you review the concepts. \n",
    "  - You should work through each section in sequence - each section builds upon the previous.\n",
    "    - You can run code using the 'play' button that appears when you click in each interactive cell. Additionally, you can use a keyboard shortcut (shift + enter) to run the contents of the code cell.\n",
    "4. Style conventions:\n",
    "  - In-text code snippets will be formatted like this: \n",
    "  \n",
    "  `print(\"Hello world!\")`\n",
    "  - Interactive cells will look the like code examples, but will have a set of square brackets in the top left ( `[ ]`).\n",
    "\n",
    "  - Study drills will be formatted like this:\n",
    "\n",
    "  > **Study drill:**\n",
    "  > \n",
    "  > What is the difference between these two blocks of code? "
   ]
  },
  {
   "cell_type": "markdown",
   "metadata": {
    "colab_type": "text",
    "id": "7woSt5P0U-xD"
   },
   "source": [
    "## II. Outline\n",
    "1. Basics of data visualization\n",
    "2. NumPy\n",
    "3. Create some data\n",
    "4. Read data using Pandas\n",
    "5. Explore data\n",
    "6. A simple analysis\n",
    "7. Present your results"
   ]
  },
  {
   "cell_type": "markdown",
   "metadata": {
    "colab_type": "text",
    "id": "ee0LNQSYRdbf"
   },
   "source": [
    "## III. Basics of data visualization \n",
    "\n",
    "Data visualization is the act of visually communicating information derrived from data. It involves the creation and study of the visual representation of data, i.e. \"information that has been abstracted in some schematic form, including attributes or variables for the units of information.\"\n",
    "\n",
    "A primary goal of data visualization is to communicate information clearly and efficiently with statistical graphs, plots and and other graphics. Numerical data may be represented using dots, lines, or bars to visually summarize a quantitative message. Effective visualization helps users analyze and reason about data and evidence. It makes complex data more accessible, understandable, and usable. \n",
    "\n",
    "Analytical tasks, such as making comparisons or understanding causality, can effiectively be demonstrated with a well-designed graphic. Data tables are method of enabling an individual to look up a specific measurement, while charts of various types can be used to show patterns or relationships in the data.\n",
    "\n",
    "\n",
    "\n"
   ]
  },
  {
   "cell_type": "markdown",
   "metadata": {
    "colab_type": "text",
    "id": "LLWO0-Tzun5D"
   },
   "source": [
    "### 3.1 What is Matplotlib?\n",
    "Matplotlib is a 2D plotting library for Python which produces publication quality figures in a variety of static and interactive formats.\n",
    "\n",
    "Matplotlib can be used across Python distributions and may be used in both interactive environments, such as IPython, Jupyter notebooks, web applications, and in complex scripts and programs.\n",
    "\n",
    "![Matplotlib](https://github.com/drdn/intro_python_module/blob/master/assets/logo_sidebar_horiz.png?raw=true)\n",
    "> Image credit: Matplotlib.org"
   ]
  },
  {
   "cell_type": "code",
   "execution_count": 1,
   "metadata": {
    "colab": {},
    "colab_type": "code",
    "id": "3Q6KxxscHjDk"
   },
   "outputs": [],
   "source": [
    "# Run this cell to import matplotlib and setup the notebook to display graphs\n",
    "import matplotlib.pyplot as plt\n",
    "\n",
    "# This command is unique to Jupyter Notebooks and iPython and is necessary to\n",
    "# display charts\n",
    "%matplotlib inline "
   ]
  },
  {
   "cell_type": "markdown",
   "metadata": {
    "colab_type": "text",
    "id": "Jo8n4oMuupIo"
   },
   "source": [
    "### 3.2 Line graphs\n",
    "A line chart or line graph is a type of visualization which displays information as a series of data points called 'markers' connected by straight line segments. Line graphs rely on the X-Y coordinate system.\n",
    "\n",
    "- For Example:\n",
    "\n",
    "  ![Line](https://github.com/drdn/intro_python_module/blob/master/assets/-line0-line1-line2-line3-line4-line5-line6-line7-line8-line9-line10-line11-line1.png?raw=true)\n",
    "  > Image credit: matthewsundquist.com\n",
    "\n",
    "- Copy the following code to the cell below and use __\"Shift+Enter\"__ to run it:\n",
    "- You can modify the code to fit your data by replace the values of `x` and `y` with appropriate references to variables in your data.\n",
    "\n",
    "```python\n",
    "# Create 2 lists and assign variables to them\n",
    "x = [1,2,3]\n",
    "y = [4,7,8]\n",
    "\n",
    "# Plot first line graph and label it as \"First Line\"\n",
    "plt.plot(x, y, label='Line')\n",
    "\n",
    "# Label X axis as \"X axis\"\n",
    "plt.xlabel('X axis')\n",
    "\n",
    "# Label y axis as \"Y axis\"\n",
    "plt.ylabel('Y axis')\n",
    "\n",
    "# `\\n` stands for newline and can put different sections of \n",
    "# text on different lines\n",
    "# For example, put \"My First\" on one line and \"Line Chart!\" on another\n",
    "plt.title('My First\\nLine Chart!')\n",
    "\n",
    "# Show the legend of the chart\n",
    "plt.legend()\n",
    "\n",
    "# Display the line graph\n",
    "plt.show()\n",
    "```\n",
    "\n",
    "> **Study drill:**\n",
    "> - Using the example code above, create your own line graph"
   ]
  },
  {
   "cell_type": "code",
   "execution_count": 2,
   "metadata": {
    "colab": {},
    "colab_type": "code",
    "id": "1qX3nY9ORlZB"
   },
   "outputs": [
    {
     "data": {
      "image/png": "[encoded data removed]",
      "text/plain": [
       "<Figure size 432x288 with 1 Axes>"
      ]
     },
     "metadata": {
      "needs_background": "light"
     },
     "output_type": "display_data"
    }
   ],
   "source": [
    "x = [1,2,3]\n",
    "y = [4,7,8]\n",
    "\n",
    "plt.plot(x,y,label = 'Line')\n",
    "\n",
    "plt.xlabel('X axis')\n",
    "plt.ylabel('Y axis')\n",
    "plt.title(\"My First\\nLine Chart!\")\n",
    "\n",
    "plt.legend()\n",
    "\n",
    "plt.show()"
   ]
  },
  {
   "cell_type": "markdown",
   "metadata": {
    "colab_type": "text",
    "id": "N8iDSXSHRnvu"
   },
   "source": [
    "### 3.3 Bar charts\n",
    "A bar chart or bar graph is a visualization that presents grouped data with rectangular bars with lengths proportional to the values that they represent. \n",
    "\n",
    "The bars can be plotted vertically or horizontally to show comparisons among categories. One axis of the chart shows the specific categories being compared, and the other axis represents a discrete value. Some bar graphs present bars clustered in groups of more than one.\n",
    "\n",
    "- For Example:\n",
    "\n",
    "  ![bar](https://github.com/drdn/intro_python_module/blob/master/assets/100.png?raw=true)\n",
    "  > Image credit: PlotBot\n",
    "\n",
    "- Copy the following code to the cell below and use __\"Shift+Enter\"__ to run it.\n",
    "- You can modify the code based on your dataset by replacing the values of `x` and `y` with appropriate references to variables in your data.\n",
    "\n",
    "```python\n",
    "# Create two lists of equal length and assign the values of each to x and y respectively\n",
    "x = [3, 7, 1, 9, 5, 3, 5, 8]\n",
    "y = [4, 7, 8, 2, 3, 4, 5, 1]\n",
    "\n",
    "# Plot the bar chart\n",
    "plt.bar(x,y)\n",
    "\n",
    "# Label x-axis of bar chart\n",
    "plt.xlabel('X')\n",
    "\n",
    "# Label y-axis of bar chart\n",
    "plt.ylabel('Y')\n",
    "\n",
    "# Show the legend of bar chart\n",
    "plt.legend('B')\n",
    "\n",
    "# Display the bar chart\n",
    "plt.show()\n",
    "```\n",
    "> **Study drill:**\n",
    "> - Using the example code above, create your own bar chart"
   ]
  },
  {
   "cell_type": "code",
   "execution_count": 3,
   "metadata": {
    "colab": {},
    "colab_type": "code",
    "id": "mcCvnjhaRudl"
   },
   "outputs": [
    {
     "data": {
      "image/png": "[encoded data removed]",
      "text/plain": [
       "<Figure size 432x288 with 1 Axes>"
      ]
     },
     "metadata": {
      "needs_background": "light"
     },
     "output_type": "display_data"
    }
   ],
   "source": [
    "x = [3,7,1,9,5,3,5,8]\n",
    "y = [4,7,8,2,3,4,5,1]\n",
    "\n",
    "plt.bar(x,y)\n",
    "\n",
    "plt.xlabel(\"x\")\n",
    "plt.ylabel(\"y\")\n",
    "\n",
    "plt.legend(\"B\")\n",
    "plt.show()"
   ]
  },
  {
   "cell_type": "markdown",
   "metadata": {
    "colab_type": "text",
    "id": "deTnwZ9-RyM4"
   },
   "source": [
    "### 3.4 Histograms\n",
    "A histogram is a graphical representation of the distribution of numerical data. Histograms are used to estimate the probability distribution of a continuous variable (quantitative variable).\n",
    "\n",
    "Histograms are specific form of bar graph. To construct a histogram, the first step is to \"bin\" the range of values — that is, divide the entire range of values into a series of intervals — and then count how many values fall into each interval. \n",
    "\n",
    "Bins are usually specified as consecutive, non-overlapping intervals of a variable. The bins (intervals) must be adjacent, and are often (but are not required to be) of equal size.\n",
    "\n",
    "- For Example:\n",
    "\n",
    "  ![Histogram](https://github.com/drdn/intro_python_module/blob/master/assets/histogram_demo_features3.png?raw=true)\n",
    "  >Image credit: Matplotlib.org\n",
    "\n",
    "- Copy the following code to the below cell and use __\"Shift+Enter\"__ to run it:\n",
    "- You can modify the code to fit your dataset.\n",
    "\n",
    "```python\n",
    "# A list of population ages \n",
    "population_ages = [9, 10, 11, 16, 21, 23, 24, 31, 31, 32, 36, 37, 38, 39, 40, 41, 42, 43, 45, 54, 56, 61, 65, 78, 88, 91]\n",
    "\n",
    "# A list of bins (we will map population_age to this bin list)\n",
    "bins_list = [0, 10, 20, 30, 40, 50, 60, 70, 80, 90]\n",
    "\n",
    "# Plot histogram\n",
    "plt.hist(population_ages, bins_list, histtype='bar', rwidth=0.8)\n",
    "\n",
    "# Add axes labels\n",
    "plt.xlabel('x')\n",
    "plt.ylabel('y')\n",
    "\n",
    "# Add a title\n",
    "plt.title('Population Distribution')\n",
    "\n",
    "# Show legend and final graph\n",
    "plt.legend()\n",
    "plt.show()\n",
    "```\n",
    "\n",
    "> **Study drill:**\n",
    "> - Using the example code above, create your own histogram"
   ]
  },
  {
   "cell_type": "code",
   "execution_count": 4,
   "metadata": {
    "colab": {},
    "colab_type": "code",
    "id": "2Zhj7fKSR15H"
   },
   "outputs": [
    {
     "name": "stderr",
     "output_type": "stream",
     "text": [
      "No handles with labels found to put in legend.\n"
     ]
    },
    {
     "data": {
      "image/png": "[encoded data removed]",
      "text/plain": [
       "<Figure size 432x288 with 1 Axes>"
      ]
     },
     "metadata": {
      "needs_background": "light"
     },
     "output_type": "display_data"
    }
   ],
   "source": [
    "population_ages = [9, 10, 11, 16, 21, 23, 24, 31, 31, 32, 36, 37, 38, 39, 40, 41, 42, 43, 45, 54, 56, 61, 65, 78, 88, 91]\n",
    "\n",
    "bins_list = [0, 10, 20, 30, 40, 50, 60, 70, 80, 90]\n",
    "\n",
    "plt.hist(population_ages,bins_list,histtype = 'bar', rwidth = 0.8)\n",
    "\n",
    "plt.xlabel(\"Ages\")\n",
    "plt.ylabel(\"Frequency\")\n",
    "plt.title('Population Distribution')\n",
    "\n",
    "plt.legend()\n",
    "plt.show()"
   ]
  },
  {
   "cell_type": "markdown",
   "metadata": {
    "colab_type": "text",
    "id": "7QLx2ZMqSMLL"
   },
   "source": [
    "### 3.5 Scatter plots\n",
    "\n",
    "A scatter plot (also called a scatter graph, scatter chart, scattergram, or scatter diagram) is a type of plot or mathematical diagram using Cartesian coordinates to display values for typically two variables for a set of data. \n",
    "\n",
    "If the points are color-coded, one additional variable can be displayed. The data is displayed as a collection of points, each having the value of one variable determining the position on the horizontal axis and the value of the other variable determining the position on the vertical axis.\n",
    "\n",
    "- For Example:\n",
    "\n",
    "  ![Scatter](https://github.com/drdn/intro_python_module/blob/master/assets/low-outlier-lolo-lo-average-hi-hihi-high-outlier.png?raw=true)\n",
    "  > Image credit: Tarun Gaba\n",
    "\n",
    "- Copy the following code to the below cell and use __\"Shift+Enter\"__ to run it:\n",
    "You can modify the code to fit your dataset.\n",
    "\n",
    "```python\n",
    "# Create two lists \n",
    "x = [3, 7, 1, 9, 5, 3, 5, 8]\n",
    "y = [4, 7, 8, 2, 3, 4, 5, 1]\n",
    "\n",
    "# Plot scatter Plot\n",
    "plt.scatter(x, y, label = 'Point', color ='g', marker ='.', s=100)\n",
    "\n",
    "# Add axes labels\n",
    "plt.xlabel('x')\n",
    "plt.ylabel('y')\n",
    "\n",
    "# Add title\n",
    "plt.title('Scatter Plot')\n",
    "\n",
    "# Show legend and final graph\n",
    "plt.legend()\n",
    "plt.show()\n",
    "```\n",
    "\n",
    "> **Study drill:**\n",
    "> - Using the example code above, create your own scatter plot"
   ]
  },
  {
   "cell_type": "code",
   "execution_count": 5,
   "metadata": {
    "colab": {},
    "colab_type": "code",
    "id": "sRCPmlAsSO3G"
   },
   "outputs": [
    {
     "data": {
      "image/png": "[encoded data removed]",
      "text/plain": [
       "<Figure size 432x288 with 1 Axes>"
      ]
     },
     "metadata": {
      "needs_background": "light"
     },
     "output_type": "display_data"
    }
   ],
   "source": [
    "x = [3, 7, 1, 9, 5, 3, 5, 8]\n",
    "y = [4, 7, 8, 2, 3, 4, 5, 1]\n",
    "\n",
    "plt.scatter(x, y, label = 'Point', color ='g', marker ='.', s=100)\n",
    "\n",
    "plt.xlabel('x')\n",
    "plt.ylabel('y')\n",
    "\n",
    "plt.title('Scatter Plot')\n",
    "plt.legend()\n",
    "plt.show()"
   ]
  },
  {
   "cell_type": "markdown",
   "metadata": {
    "colab_type": "text",
    "id": "mfs7xqdWSQ4R"
   },
   "source": [
    "### 3.6 Stack plots\n",
    "Also known as a streamgraph or stream graph, stack plots are utilize stacked areas displaced around a central axis, resulting in a flowing, organic shape.\n",
    "\n",
    "- For Example:\n",
    "\n",
    "  ![Stack](https://github.com/drdn/intro_python_module/blob/master/assets/stackplot_demo_01_00.png?raw=true)\n",
    "  >Image credit: Matplotlib.org\n",
    "\n",
    "- Copy the following code to the below cell and use __\"Shift+Enter\"__ to run it.\n",
    "- You can modify the code to fit your dataset.\n",
    "\n",
    "```python\n",
    "# Create 4 lists: \"workdays\", \"working\", \"leisure\", \"sleeping\"\n",
    "workdays = [1, 2, 3, 4, 5]\n",
    "working = [8, 7, 6, 8, 10]\n",
    "leisure = [8, 10, 10, 7, 9]\n",
    "sleeping = [8, 7, 8, 9, 5]\n",
    " \n",
    "# Plot stack plot based on the lists\n",
    "plt.stackplot(workdays, working, leisure, sleeping, colors = ['g','b', 'k'])\n",
    " \n",
    "# Add axes labels and graph title\n",
    "plt.xlabel('Days')\n",
    "plt.ylabel('Hours')\n",
    "plt.title('How to balance your work and life during the Weekdays')\n",
    "\n",
    "# Create a custom legend\n",
    "plt.plot([], [], color='k', label='sleep', linewidth=5)\n",
    "plt.plot([], [], color='b', label='leisure', linewidth=5)\n",
    "plt.plot([], [], color='g', label='work', linewidth=5)\n",
    "\n",
    "# Show legnd and final graph\n",
    "plt.legend()\n",
    "plt.show() \n",
    "```\n",
    "\n",
    "> **Study drill:**\n",
    "> - Using the example code above, create your own stack plot"
   ]
  },
  {
   "cell_type": "code",
   "execution_count": 6,
   "metadata": {
    "colab": {},
    "colab_type": "code",
    "id": "hmTdYuvwSWMV"
   },
   "outputs": [
    {
     "data": {
      "image/png": "[encoded data removed]",
      "text/plain": [
       "<Figure size 432x288 with 1 Axes>"
      ]
     },
     "metadata": {
      "needs_background": "light"
     },
     "output_type": "display_data"
    }
   ],
   "source": [
    "workdays = [1, 2, 3, 4, 5]\n",
    "working = [8, 7, 6, 8, 10]\n",
    "leisure = [8, 10, 10, 7, 9]\n",
    "sleeping = [8, 7, 8, 9, 5]\n",
    " \n",
    "plt.stackplot(workdays, working, leisure, sleeping, colors = ['g','b', 'k'])\n",
    " \n",
    "plt.xlabel('Days')\n",
    "plt.ylabel('Hours')\n",
    "plt.title('How to balance your work and life during the Weekdays')\n",
    "\n",
    "plt.plot([], [], color='k', label='sleep', linewidth=5)\n",
    "plt.plot([], [], color='b', label='leisure', linewidth=5)\n",
    "plt.plot([], [], color='g', label='work', linewidth=5)\n",
    "\n",
    "plt.legend()\n",
    "plt.show() "
   ]
  },
  {
   "cell_type": "markdown",
   "metadata": {
    "colab_type": "text",
    "id": "AWzwzJvsSY0s"
   },
   "source": [
    "### 3.7 Pie charts\n",
    "Pie charts (or a circle chart) are circular statistical graphics which are divided into slices to illustrate numerical proportion. In a pie chart, the arc length of each slice (and consequently its central angle and area), is proportional to the quantity it represents.\n",
    "\n",
    "While it is named for its resemblance to a pie which has been sliced, there are variations on the way it can be presented. The earliest known pie chart is generally credited to William Playfair's Statistical Breviary of 1801.\n",
    "\n",
    "- For Example:\n",
    "\n",
    "  ![Pie](https://github.com/drdn/intro_python_module/blob/master/assets/pie_demo_features.png?raw=true)\n",
    "  >Image credit: Matplotlib.org\n",
    "\n",
    "- Copy the following code to the below cell and use __\"Shift+Enter\"__ to run it.\n",
    "- You can modify the code to fit your dataset.\n",
    "\n",
    "```python\n",
    "# Create some data\n",
    "leisure = [4, 4, 5, 2, 3]\n",
    "eating = [1, 1, 1, 1, 1]\n",
    "study = [3, 8, 4, 5, 2]\n",
    "research = [7, 2, 6, 5, 8]\n",
    "\n",
    "# Create slices based on the total weekly value of each activity\n",
    "slices = [sum(leisure), sum(eating), sum(study), sum(research)]\n",
    "\n",
    "# Create a list to store slice labels\n",
    "activities = ['leisure','eating','study','research']\n",
    "\n",
    "# Define slice colors\n",
    "cols = ['g','c','r','k']\n",
    "\n",
    "# Plot the chart\n",
    "plt.pie(slices, \n",
    "        labels=activities, \n",
    "        colors=cols, shadow=True,\n",
    "        explode=(0,0.1,0,0),\n",
    "        autopct='%1.1f%%'\n",
    "       )\n",
    "\n",
    "# Show the legend and final graph\n",
    "plt.legend()\n",
    "plt.show()\n",
    "```\n",
    "\n",
    "> **Study drill:**\n",
    "> - Using the example code above, create your own pie chart"
   ]
  },
  {
   "cell_type": "code",
   "execution_count": 7,
   "metadata": {
    "colab": {},
    "colab_type": "code",
    "id": "naUpdzUSSdb3"
   },
   "outputs": [
    {
     "data": {
      "image/png": "[encoded data removed]",
      "text/plain": [
       "<Figure size 432x288 with 1 Axes>"
      ]
     },
     "metadata": {},
     "output_type": "display_data"
    }
   ],
   "source": [
    "leisure = [4, 4, 5, 2, 3]\n",
    "eating = [1, 1, 1, 1, 1]\n",
    "study = [3, 8, 4, 5, 2]\n",
    "research = [7, 2, 6, 5, 8]\n",
    "\n",
    "# Create slices based on the total weekly value of each activity\n",
    "slices = [sum(leisure), sum(eating), sum(study), sum(research)]\n",
    "\n",
    "# Create a list to store slice labels\n",
    "activities = ['leisure','eating','study','research']\n",
    "\n",
    "# Define slice colors\n",
    "cols = ['g','c','r','w']\n",
    "\n",
    "# Plot the chart\n",
    "plt.pie(slices, \n",
    "        labels=activities, \n",
    "        colors=cols, shadow=True,\n",
    "        explode=(0,0.1,0,0),\n",
    "        autopct='%1.1f%%'\n",
    "       )\n",
    "\n",
    "# Show the legend and final graph\n",
    "plt.legend()\n",
    "plt.show()"
   ]
  },
  {
   "cell_type": "markdown",
   "metadata": {
    "colab_type": "text",
    "id": "vJabsYnVSe7D"
   },
   "source": [
    "## IV. NumPy\n",
    "\n",
    "\n",
    "NumPy is the core library for scientific computing in Python. It provides a high-performance multidimensional array object, and tools for working with these arrays. If you are already familiar with MATLAB, you might find this tutorial useful to get started with NumPy.\n",
    "\n",
    "To use NumPy, we first need to import the NumPy package:\n"
   ]
  },
  {
   "cell_type": "code",
   "execution_count": 8,
   "metadata": {
    "colab": {},
    "colab_type": "code",
    "id": "79cW91iJIewl"
   },
   "outputs": [],
   "source": [
    "# Import NumPy\n",
    "import numpy as np"
   ]
  },
  {
   "cell_type": "markdown",
   "metadata": {
    "colab_type": "text",
    "id": "vKKx1lf9SrcP"
   },
   "source": [
    "### 4.1 Arrays\n",
    "\n",
    "A NumPy array is a grid of values, all of the same type, and is indexed by a tuple of nonnegative integers. The number of dimensions is the rank of the array; the shape of an array is a tuple of integers giving the size of the array along each dimension.\n",
    "\n",
    "We can initialize NumPy arrays from nested Python lists, and access elements using square brackets:\n",
    "\n",
    "```python\n",
    "# Create a rank 1 array\n",
    "a = np.array([1, 2, 3])\n",
    "\n",
    "print(type(a), a.shape, a[0], a[1], a[2])\n",
    "\n",
    "# Change an element of the array\n",
    "a[0] = 5\n",
    "print(a)\n",
    "\n",
    "# Create a rank 2 array\n",
    "b = np.array([[1, 2, 3], [4, 5, 6]])\n",
    "print(b)\n",
    "print(b.shape)\n",
    "print(b[0, 0], b[0, 1], b[1, 0])\n",
    "```\n",
    "\n",
    "\n",
    "#### NumPy Built-in Array Functions\n",
    "\n",
    "```python\n",
    "# Create an array of all zeros\n",
    "a = np.zeros((2, 2))\n",
    "print(a)\n",
    "\n",
    "# Create an array of all ones\n",
    "b = np.ones((1, 2))\n",
    "print(b)\n",
    "\n",
    "# Create an array of random values\n",
    "e = np.random.random((2, 2))\n",
    "print(e)\n",
    "```\n",
    "\n",
    "> **Study drill:**\n",
    "> - Using the example code above, practice creating arrays using NumPy"
   ]
  },
  {
   "cell_type": "code",
   "execution_count": 21,
   "metadata": {
    "colab": {},
    "colab_type": "code",
    "id": "mHUPA2Mafls7"
   },
   "outputs": [
    {
     "name": "stdout",
     "output_type": "stream",
     "text": [
      "<class 'numpy.ndarray'> (3,) 1 2 3\n",
      "[5 2 3]\n",
      "[[1 2 3]\n",
      " [4 5 6]]\n",
      "(2, 3)\n",
      "1 2 4\n",
      "[[0. 0.]\n",
      " [0. 0.]]\n",
      "[[1. 1.]]\n",
      "[[0.26079405 0.50129923]\n",
      " [0.14325632 0.03604219]]\n"
     ]
    }
   ],
   "source": [
    "# Create a rank 1 array\n",
    "a = np.array([1, 2, 3])\n",
    "\n",
    "print(type(a), a.shape, a[0], a[1], a[2])\n",
    "\n",
    "# Change an element of the array\n",
    "a[0] = 5\n",
    "print(a)\n",
    "\n",
    "# Create a rank 2 array\n",
    "b = np.array([[1, 2, 3], [4, 5, 6]])\n",
    "print(b)\n",
    "print(b.shape)\n",
    "print(b[0, 0], b[0, 1], b[1, 0])\n",
    "\n",
    "\n",
    "a = np.zeros((2, 2))\n",
    "print(a)\n",
    "\n",
    "# Create an array of all ones\n",
    "b = np.ones((1, 2))\n",
    "print(b)\n",
    "\n",
    "# Create an array of random values\n",
    "e = np.random.random((2, 2))\n",
    "print(e)\n"
   ]
  },
  {
   "cell_type": "markdown",
   "metadata": {
    "colab_type": "text",
    "id": "a79Zk-KKToP_"
   },
   "source": [
    "### 4.2 Array indexing\n",
    "\n",
    "NumPy offers several ways to index arrays.\n",
    "\n",
    "**Slicing:** NumPy arrays are structured much like lists, and therefore can be sliced using an index. Since arrays may be multidimensional, you must specify a slice for each dimension of the array.\n",
    "\n",
    "```python\n",
    "# Create the following rank 2 array with shape (3, 4)\n",
    "# [[ 1  2  3  4 ]\n",
    "#  [ 5  6  7  8 ] \n",
    "#  [ 9 10 11 12 ]]\n",
    "\n",
    "a = np.array([[1, 2, 3, 4], [5, 6, 7, 8], [9, 10, 11, 12]])\n",
    "\n",
    "# Using index slicing, create a subarray consisting of the first 2 rows and the second and third columns. \n",
    "# Hint: The shape of the array should be (2, 2) and remember, indexes begin on zero!\n",
    "# [[ 2 3 ]\n",
    "#  [ 6 7 ]]\n",
    "\n",
    "b = a[:2, 1:3]\n",
    "print(b)\n",
    "```"
   ]
  },
  {
   "cell_type": "code",
   "execution_count": 10,
   "metadata": {},
   "outputs": [
    {
     "name": "stdout",
     "output_type": "stream",
     "text": [
      "[[ 1  2  3  4]\n",
      " [ 5  6  7  8]\n",
      " [ 9 10 11 12]] \n",
      "\n",
      "[[2 3]\n",
      " [6 7]]\n"
     ]
    }
   ],
   "source": [
    "a = np.array([[1, 2, 3, 4], [5, 6, 7, 8], [9, 10, 11, 12]])\n",
    "print(a, '\\n')\n",
    "b = a[:2, 1:3]\n",
    "print(b)"
   ]
  },
  {
   "cell_type": "markdown",
   "metadata": {
    "colab_type": "text",
    "id": "oQ0eQCK2Wcmy"
   },
   "source": [
    "### 4.3 Array math\n",
    "\n",
    "Basic mathematical functions operate elementwise on arrays, and are available both as operators overloads and as functions in the NumPy module.\n",
    "\n",
    "```python\n",
    "x = np.array([[1, 2], [3, 4]], dtype=np.float64)\n",
    "y = np.array([[5, 6], [7, 8]], dtype=np.float64)\n",
    "\n",
    "# Sum the arrays using the addition operand\n",
    "print(x + y)\n",
    "\n",
    "# Sum the arrays using the .add() method for NumPy\n",
    "print(np.add(x, y))\n",
    "```"
   ]
  },
  {
   "cell_type": "code",
   "execution_count": 11,
   "metadata": {},
   "outputs": [
    {
     "name": "stdout",
     "output_type": "stream",
     "text": [
      "X\n",
      " [[1. 2.]\n",
      " [3. 4.]]\n",
      "Y\n",
      " [[5. 6.]\n",
      " [7. 8.]] \n",
      "\n",
      "[[ 6.  8.]\n",
      " [10. 12.]] \n",
      "\n",
      "[[ 6.  8.]\n",
      " [10. 12.]]\n"
     ]
    }
   ],
   "source": [
    "x = np.array([[1, 2], [3, 4]], dtype=np.float64)\n",
    "y = np.array([[5, 6], [7, 8]], dtype=np.float64)\n",
    "\n",
    "print('X\\n', x)\n",
    "print('Y\\n', y,'\\n')\n",
    "\n",
    "# Sum the arrays using the addition operand\n",
    "print(x + y, '\\n')\n",
    "\n",
    "# Sum the arrays using the .add() method for NumPy\n",
    "print(np.add(x, y))"
   ]
  },
  {
   "cell_type": "markdown",
   "metadata": {
    "colab_type": "text",
    "id": "GlD1XTj_XN9e"
   },
   "source": [
    "### 4.4 Generating random numbers\n",
    "\n",
    "Sometimes you may need to test a program without having real data on hand - or, for security/privacy reasons cannot access that data on your personal computer. This is where NumPy's pseudo random number generator can help.\n",
    "\n",
    "To generate a randomn integer, you can used the `randint()` method using NumPy's `random` module.\n",
    "\n",
    "```python\n",
    "# Generate a random integer from 0 to 1000\n",
    "np.random.randint(1000)\n",
    "```\n",
    "\n",
    "You can also the `rand()` method instead to generate a random float.\n",
    "\n",
    "```python\n",
    "# Generate a random float from 0 to 1\n",
    "np.random.rand()\n",
    "```\n",
    "\n",
    "`randint()` can take additional parameters to produce arrays of randomn data!\n",
    "\n",
    "```python\n",
    "# Create an array of 100 random integers from 0 to 100\n",
    "np.random.randint(100, size=(100))\n",
    "\n",
    "# Create 2D array with 5 rows of 100 random integers from 0 to 100\n",
    "np.random.randint(100, size=(5, 100))\n",
    "```\n",
    "\n",
    "`rand()` can also be used to create 2D arrays of floats.\n",
    "\n",
    "```python\n",
    "# Create a 2D array with 5 rows and 10 randomn floats\n",
    "np.random.rand(5, 10)\n",
    "```\n",
    "\n",
    "> **Study drill:**\n",
    "> 1. Practice producing various random numbers and arrays of random numbers\n",
    "> 2. Pick a visualization from above and copy the entire code. Swap out the original lists with random generated arrays and then plot the random data. \n",
    "\n"
   ]
  },
  {
   "cell_type": "code",
   "execution_count": 20,
   "metadata": {
    "colab": {},
    "colab_type": "code",
    "id": "d4hmelDhc2jN"
   },
   "outputs": [
    {
     "name": "stdout",
     "output_type": "stream",
     "text": [
      "[[57 79 63 12 96 84 20 49 27 42]\n",
      " [84 63 86 39 21 96 16 81 28  1]\n",
      " [81 43 40 17 30  2 56 52 47 26]\n",
      " [52 49 20 89 62 66 66 88 83 29]\n",
      " [70 39  9 82 13 94 94  0 33 85]] \n",
      "\n"
     ]
    }
   ],
   "source": [
    "# Generate a random integer from 0 to 1000\n",
    "p = np.random.randint(1000)\n",
    "#print(p,'\\n')\n",
    "\n",
    "#random float\n",
    "p = np.random.rand()\n",
    "#print(p,'\\n')\n",
    "\n",
    "#random array of 100 items from 0 to 100\n",
    "p=np.random.randint(100, size=(100))\n",
    "#print(p,'\\n')\n",
    "\n",
    "#2D array with 5 rows of 10 random integers from 0 to 100\n",
    "p=np.random.randint(100, size=(5, 10))\n",
    "#print(p,'\\n')\n",
    "\n",
    "#2D array with 5 rows of 10 floats\n",
    "p=np.random.rand(5, 10)\n",
    "#print(p,'\\n')"
   ]
  },
  {
   "cell_type": "markdown",
   "metadata": {
    "colab_type": "text",
    "id": "yjt6DslSXWMQ"
   },
   "source": [
    "## V. Pandas\n",
    "\n",
    "The Pandas library is a powerful library for data analysis in Python. Let's get started by importing Pandas below.\n"
   ]
  },
  {
   "cell_type": "code",
   "execution_count": 13,
   "metadata": {
    "colab": {},
    "colab_type": "code",
    "id": "s_VB9FSRpWQ8"
   },
   "outputs": [],
   "source": [
    "# Import Pandas\n",
    "import pandas as pd\n"
   ]
  },
  {
   "cell_type": "markdown",
   "metadata": {
    "colab_type": "text",
    "id": "QaAUoxq9v_qI"
   },
   "source": [
    "### 5.1 Basic functions in Pandas\n",
    "\n",
    "Below are some of the common statistical methods to use when working with DataFrames in Pandas:\n",
    "\n",
    "- `df.max()` - Returns the maximum value\n",
    "- `df.min()` - Returns the minimum value\n",
    "- `df.mean()` - Returns the mean\n",
    "- `df.median()`  - Returns the median \n",
    "- `df.std()` - Returns the standard deviation over requested axis\n",
    "\n",
    "Below are some useful methods for exploring the contents of a DataFrame:\n",
    "\n",
    "- `df.count()` - Returns the number of non-NA cells for each column or row\n",
    "- `df.describe()` - Returns summary information about a DataFrame\n",
    "- `df.head()`  - Returns the first five rows of a DataFrame\n",
    "- `df.tail()` - Returns the last five rows of a DataFrame\n",
    "- `df.shape` - Returns the number of rows by columns\n",
    "- `df.columns`  - Returns a list of column names\n",
    "- `df.index` - Returns row information (range and step)\n",
    "- `df.info`  - Returns a list of variables, data type, count, size, etc.\n",
    "\n",
    "The above examples are only a small sample of all the methods avaialable. Check out the complete list and document [here](https://pandas.pydata.org/pandas-docs/stable/reference/frame.html).\n",
    "\n"
   ]
  },
  {
   "cell_type": "markdown",
   "metadata": {
    "colab_type": "text",
    "id": "8WLmksiFYHh0"
   },
   "source": [
    "### 5.2 Create some data\n",
    "\n",
    "We will begin by creating some fake data for a sample of five baby names and the number of births for 1880.\n",
    "\n",
    "```python\n",
    "names = ['Bob', 'Jessica', 'Mary', 'John', 'Mel']\n",
    "births = [968, 155, 77, 578, 973]\n",
    "```\n",
    "\n",
    "As it stands, these data are just two distinct lists are have no relation to one another. We can merge the two lists using the built-in function `zip()`. `zip()` will combine both lists elementwise into tuples. `list()` will create a new list with the result of `zip(names, births)`.\n",
    "\n",
    "```python\n",
    "birth_data = list(zip(names, births))\n",
    "```\n",
    "\n",
    "Now that we have a list of name/birth tuples, we can say that we have created our dataset. However, a list of tuples is not the best structure for the data that we have. A better option is a DataFrame, which is a two-dimensional tabular object i.e. rows and columns similar to a spreadsheet. \n",
    "\n",
    "We can create a DataFrame using the `.DataFrame()` function.\n",
    "\n",
    "```python\n",
    "df = pd.DataFrame(data = birth_data, columns=['Names', 'Births'])\n",
    "```\n",
    "\n"
   ]
  },
  {
   "cell_type": "code",
   "execution_count": 14,
   "metadata": {
    "colab": {},
    "colab_type": "code",
    "id": "cMdA5fu2p1Q8"
   },
   "outputs": [],
   "source": [
    "# Create a DataFrame\n",
    "\n",
    "names = ['Bob', 'Jessica', 'Mary', 'John', 'Mel']\n",
    "births = [968, 155, 77, 578, 973]\n",
    "births_data = list(zip(names, births))\n",
    "\n",
    "df = pd.DataFrame(data = births_data, columns=['Names', 'Births'])"
   ]
  },
  {
   "cell_type": "markdown",
   "metadata": {
    "colab_type": "text",
    "id": "wOH8x7pepzL7"
   },
   "source": [
    "Once we have created a DataFrame object using our data, we can use all of the functions and methods available in the Pandas library!\n",
    "\n",
    "Let's export our data to a `.csv` file so that we can share our data with the world. \n",
    "\n",
    "**Note:** Files exported from this notebook in Google Colaboratory are stored in a folder called `content`. You can access this folder by clicking the folder icon on the left menu (once you expand this view, you may need to click the folder with an 'arrow' inside of it to go up a directory). Double clicking a file in this menu will allow you to preview it in a new pane of the notebook. To read a file from this folder, use the following syntax: `/content/file.ext`.\n",
    "\n",
    "The `.to_csv()` method requires at least one argument: a file name. However, two useful arguments are `index` (row numbers) and `header` (column names). If only a filename is passed, then `.to_csv()` will default to `index=True, header=True`. \n",
    "\n",
    "```python\n",
    "df.to_csv('births1880.csv', index=False, header=False)\n",
    "```"
   ]
  },
  {
   "cell_type": "markdown",
   "metadata": {
    "colab_type": "text",
    "id": "-h2wl1MEqyHQ"
   },
   "source": [
    "> **Study drill:**\n",
    "> 1. Try saving a csv by passing only a filename to `.to_csv()`.\n",
    "> 2. Export the file again with a different filename and add the `index` argument with a value of `False`. Repeat for `header`.\n",
    "> 3. Compare each of the three exported files. How does each differ?"
   ]
  },
  {
   "cell_type": "code",
   "execution_count": 15,
   "metadata": {
    "colab": {},
    "colab_type": "code",
    "id": "ujE26URMrnvh"
   },
   "outputs": [],
   "source": [
    "# Enter your code here\n"
   ]
  },
  {
   "cell_type": "markdown",
   "metadata": {
    "colab_type": "text",
    "id": "qeTxzKZYWFyb"
   },
   "source": [
    "#### Before moving onto the next section:\n",
    "\n",
    "Run the following code so that you have the correct version of the data. Otherwise, the examples below will not work as expected.\n",
    "\n",
    "```python\n",
    "df.to_csv('births1800.csv', index=False, header=False)\n",
    "```"
   ]
  },
  {
   "cell_type": "code",
   "execution_count": 18,
   "metadata": {
    "colab": {},
    "colab_type": "code",
    "id": "5QwT42Z9Xa1W"
   },
   "outputs": [],
   "source": [
    "# Export the csv here\n"
   ]
  },
  {
   "cell_type": "markdown",
   "metadata": {
    "colab_type": "text",
    "id": "XTj1SAvdrtJl"
   },
   "source": [
    "### 5.3 Read data using Pandas\n",
    "\n",
    "We have experimented with creating mock data using only Python, but chances are that you will collect outside of Python or obtain a published dataset. \n",
    "\n",
    "Data can be imported into Python in a couple different ways, but you can use Pandas to reduce the lines of code you have to write.\n",
    "\n",
    "Let's use the Pandas `.read_csv()` function to import a csv file.\n",
    "\n",
    "```python\n",
    "df = pd.read_csv('births1880.csv')\n",
    "```\n",
    "\n",
    "Run the code in the cell below. Return the value of `df` to see contents of `births1880.csv`.\n",
    "\n",
    "\n"
   ]
  },
  {
   "cell_type": "code",
   "execution_count": 17,
   "metadata": {
    "colab": {},
    "colab_type": "code",
    "id": "KIKHCRFgysvE"
   },
   "outputs": [
    {
     "ename": "FileNotFoundError",
     "evalue": "[Errno 2] No such file or directory: '/content/births1880.csv'",
     "output_type": "error",
     "traceback": [
      "\u001b[0;31m---------------------------------------------------------------------------\u001b[0m",
      "\u001b[0;31mFileNotFoundError\u001b[0m                         Traceback (most recent call last)",
      "\u001b[0;32m/var/folders/13/xlfyx27d0bbd_yjsqk_v418w0000gn/T/ipykernel_12524/3347960331.py\u001b[0m in \u001b[0;36m<module>\u001b[0;34m\u001b[0m\n\u001b[1;32m      1\u001b[0m \u001b[0;31m# Since this file is located in the 'content' folder of the notebook, we'll need\u001b[0m\u001b[0;34m\u001b[0m\u001b[0;34m\u001b[0m\u001b[0m\n\u001b[1;32m      2\u001b[0m \u001b[0;31m# to add that to our file\u001b[0m\u001b[0;34m\u001b[0m\u001b[0;34m\u001b[0m\u001b[0m\n\u001b[0;32m----> 3\u001b[0;31m \u001b[0mdf\u001b[0m \u001b[0;34m=\u001b[0m \u001b[0mpd\u001b[0m\u001b[0;34m.\u001b[0m\u001b[0mread_csv\u001b[0m\u001b[0;34m(\u001b[0m\u001b[0;34m'/content/births1880.csv'\u001b[0m\u001b[0;34m)\u001b[0m\u001b[0;34m\u001b[0m\u001b[0;34m\u001b[0m\u001b[0m\n\u001b[0m\u001b[1;32m      4\u001b[0m \u001b[0mdf\u001b[0m\u001b[0;34m\u001b[0m\u001b[0;34m\u001b[0m\u001b[0m\n",
      "\u001b[0;32m~/opt/anaconda3/lib/python3.9/site-packages/pandas/util/_decorators.py\u001b[0m in \u001b[0;36mwrapper\u001b[0;34m(*args, **kwargs)\u001b[0m\n\u001b[1;32m    309\u001b[0m                     \u001b[0mstacklevel\u001b[0m\u001b[0;34m=\u001b[0m\u001b[0mstacklevel\u001b[0m\u001b[0;34m,\u001b[0m\u001b[0;34m\u001b[0m\u001b[0;34m\u001b[0m\u001b[0m\n\u001b[1;32m    310\u001b[0m                 )\n\u001b[0;32m--> 311\u001b[0;31m             \u001b[0;32mreturn\u001b[0m \u001b[0mfunc\u001b[0m\u001b[0;34m(\u001b[0m\u001b[0;34m*\u001b[0m\u001b[0margs\u001b[0m\u001b[0;34m,\u001b[0m \u001b[0;34m**\u001b[0m\u001b[0mkwargs\u001b[0m\u001b[0;34m)\u001b[0m\u001b[0;34m\u001b[0m\u001b[0;34m\u001b[0m\u001b[0m\n\u001b[0m\u001b[1;32m    312\u001b[0m \u001b[0;34m\u001b[0m\u001b[0m\n\u001b[1;32m    313\u001b[0m         \u001b[0;32mreturn\u001b[0m \u001b[0mwrapper\u001b[0m\u001b[0;34m\u001b[0m\u001b[0;34m\u001b[0m\u001b[0m\n",
      "\u001b[0;32m~/opt/anaconda3/lib/python3.9/site-packages/pandas/io/parsers/readers.py\u001b[0m in \u001b[0;36mread_csv\u001b[0;34m(filepath_or_buffer, sep, delimiter, header, names, index_col, usecols, squeeze, prefix, mangle_dupe_cols, dtype, engine, converters, true_values, false_values, skipinitialspace, skiprows, skipfooter, nrows, na_values, keep_default_na, na_filter, verbose, skip_blank_lines, parse_dates, infer_datetime_format, keep_date_col, date_parser, dayfirst, cache_dates, iterator, chunksize, compression, thousands, decimal, lineterminator, quotechar, quoting, doublequote, escapechar, comment, encoding, encoding_errors, dialect, error_bad_lines, warn_bad_lines, on_bad_lines, delim_whitespace, low_memory, memory_map, float_precision, storage_options)\u001b[0m\n\u001b[1;32m    584\u001b[0m     \u001b[0mkwds\u001b[0m\u001b[0;34m.\u001b[0m\u001b[0mupdate\u001b[0m\u001b[0;34m(\u001b[0m\u001b[0mkwds_defaults\u001b[0m\u001b[0;34m)\u001b[0m\u001b[0;34m\u001b[0m\u001b[0;34m\u001b[0m\u001b[0m\n\u001b[1;32m    585\u001b[0m \u001b[0;34m\u001b[0m\u001b[0m\n\u001b[0;32m--> 586\u001b[0;31m     \u001b[0;32mreturn\u001b[0m \u001b[0m_read\u001b[0m\u001b[0;34m(\u001b[0m\u001b[0mfilepath_or_buffer\u001b[0m\u001b[0;34m,\u001b[0m \u001b[0mkwds\u001b[0m\u001b[0;34m)\u001b[0m\u001b[0;34m\u001b[0m\u001b[0;34m\u001b[0m\u001b[0m\n\u001b[0m\u001b[1;32m    587\u001b[0m \u001b[0;34m\u001b[0m\u001b[0m\n\u001b[1;32m    588\u001b[0m \u001b[0;34m\u001b[0m\u001b[0m\n",
      "\u001b[0;32m~/opt/anaconda3/lib/python3.9/site-packages/pandas/io/parsers/readers.py\u001b[0m in \u001b[0;36m_read\u001b[0;34m(filepath_or_buffer, kwds)\u001b[0m\n\u001b[1;32m    480\u001b[0m \u001b[0;34m\u001b[0m\u001b[0m\n\u001b[1;32m    481\u001b[0m     \u001b[0;31m# Create the parser.\u001b[0m\u001b[0;34m\u001b[0m\u001b[0;34m\u001b[0m\u001b[0m\n\u001b[0;32m--> 482\u001b[0;31m     \u001b[0mparser\u001b[0m \u001b[0;34m=\u001b[0m \u001b[0mTextFileReader\u001b[0m\u001b[0;34m(\u001b[0m\u001b[0mfilepath_or_buffer\u001b[0m\u001b[0;34m,\u001b[0m \u001b[0;34m**\u001b[0m\u001b[0mkwds\u001b[0m\u001b[0;34m)\u001b[0m\u001b[0;34m\u001b[0m\u001b[0;34m\u001b[0m\u001b[0m\n\u001b[0m\u001b[1;32m    483\u001b[0m \u001b[0;34m\u001b[0m\u001b[0m\n\u001b[1;32m    484\u001b[0m     \u001b[0;32mif\u001b[0m \u001b[0mchunksize\u001b[0m \u001b[0;32mor\u001b[0m \u001b[0miterator\u001b[0m\u001b[0;34m:\u001b[0m\u001b[0;34m\u001b[0m\u001b[0;34m\u001b[0m\u001b[0m\n",
      "\u001b[0;32m~/opt/anaconda3/lib/python3.9/site-packages/pandas/io/parsers/readers.py\u001b[0m in \u001b[0;36m__init__\u001b[0;34m(self, f, engine, **kwds)\u001b[0m\n\u001b[1;32m    809\u001b[0m             \u001b[0mself\u001b[0m\u001b[0;34m.\u001b[0m\u001b[0moptions\u001b[0m\u001b[0;34m[\u001b[0m\u001b[0;34m\"has_index_names\"\u001b[0m\u001b[0;34m]\u001b[0m \u001b[0;34m=\u001b[0m \u001b[0mkwds\u001b[0m\u001b[0;34m[\u001b[0m\u001b[0;34m\"has_index_names\"\u001b[0m\u001b[0;34m]\u001b[0m\u001b[0;34m\u001b[0m\u001b[0;34m\u001b[0m\u001b[0m\n\u001b[1;32m    810\u001b[0m \u001b[0;34m\u001b[0m\u001b[0m\n\u001b[0;32m--> 811\u001b[0;31m         \u001b[0mself\u001b[0m\u001b[0;34m.\u001b[0m\u001b[0m_engine\u001b[0m \u001b[0;34m=\u001b[0m \u001b[0mself\u001b[0m\u001b[0;34m.\u001b[0m\u001b[0m_make_engine\u001b[0m\u001b[0;34m(\u001b[0m\u001b[0mself\u001b[0m\u001b[0;34m.\u001b[0m\u001b[0mengine\u001b[0m\u001b[0;34m)\u001b[0m\u001b[0;34m\u001b[0m\u001b[0;34m\u001b[0m\u001b[0m\n\u001b[0m\u001b[1;32m    812\u001b[0m \u001b[0;34m\u001b[0m\u001b[0m\n\u001b[1;32m    813\u001b[0m     \u001b[0;32mdef\u001b[0m \u001b[0mclose\u001b[0m\u001b[0;34m(\u001b[0m\u001b[0mself\u001b[0m\u001b[0;34m)\u001b[0m\u001b[0;34m:\u001b[0m\u001b[0;34m\u001b[0m\u001b[0;34m\u001b[0m\u001b[0m\n",
      "\u001b[0;32m~/opt/anaconda3/lib/python3.9/site-packages/pandas/io/parsers/readers.py\u001b[0m in \u001b[0;36m_make_engine\u001b[0;34m(self, engine)\u001b[0m\n\u001b[1;32m   1038\u001b[0m             )\n\u001b[1;32m   1039\u001b[0m         \u001b[0;31m# error: Too many arguments for \"ParserBase\"\u001b[0m\u001b[0;34m\u001b[0m\u001b[0;34m\u001b[0m\u001b[0m\n\u001b[0;32m-> 1040\u001b[0;31m         \u001b[0;32mreturn\u001b[0m \u001b[0mmapping\u001b[0m\u001b[0;34m[\u001b[0m\u001b[0mengine\u001b[0m\u001b[0;34m]\u001b[0m\u001b[0;34m(\u001b[0m\u001b[0mself\u001b[0m\u001b[0;34m.\u001b[0m\u001b[0mf\u001b[0m\u001b[0;34m,\u001b[0m \u001b[0;34m**\u001b[0m\u001b[0mself\u001b[0m\u001b[0;34m.\u001b[0m\u001b[0moptions\u001b[0m\u001b[0;34m)\u001b[0m  \u001b[0;31m# type: ignore[call-arg]\u001b[0m\u001b[0;34m\u001b[0m\u001b[0;34m\u001b[0m\u001b[0m\n\u001b[0m\u001b[1;32m   1041\u001b[0m \u001b[0;34m\u001b[0m\u001b[0m\n\u001b[1;32m   1042\u001b[0m     \u001b[0;32mdef\u001b[0m \u001b[0m_failover_to_python\u001b[0m\u001b[0;34m(\u001b[0m\u001b[0mself\u001b[0m\u001b[0;34m)\u001b[0m\u001b[0;34m:\u001b[0m\u001b[0;34m\u001b[0m\u001b[0;34m\u001b[0m\u001b[0m\n",
      "\u001b[0;32m~/opt/anaconda3/lib/python3.9/site-packages/pandas/io/parsers/c_parser_wrapper.py\u001b[0m in \u001b[0;36m__init__\u001b[0;34m(self, src, **kwds)\u001b[0m\n\u001b[1;32m     49\u001b[0m \u001b[0;34m\u001b[0m\u001b[0m\n\u001b[1;32m     50\u001b[0m         \u001b[0;31m# open handles\u001b[0m\u001b[0;34m\u001b[0m\u001b[0;34m\u001b[0m\u001b[0m\n\u001b[0;32m---> 51\u001b[0;31m         \u001b[0mself\u001b[0m\u001b[0;34m.\u001b[0m\u001b[0m_open_handles\u001b[0m\u001b[0;34m(\u001b[0m\u001b[0msrc\u001b[0m\u001b[0;34m,\u001b[0m \u001b[0mkwds\u001b[0m\u001b[0;34m)\u001b[0m\u001b[0;34m\u001b[0m\u001b[0;34m\u001b[0m\u001b[0m\n\u001b[0m\u001b[1;32m     52\u001b[0m         \u001b[0;32massert\u001b[0m \u001b[0mself\u001b[0m\u001b[0;34m.\u001b[0m\u001b[0mhandles\u001b[0m \u001b[0;32mis\u001b[0m \u001b[0;32mnot\u001b[0m \u001b[0;32mNone\u001b[0m\u001b[0;34m\u001b[0m\u001b[0;34m\u001b[0m\u001b[0m\n\u001b[1;32m     53\u001b[0m \u001b[0;34m\u001b[0m\u001b[0m\n",
      "\u001b[0;32m~/opt/anaconda3/lib/python3.9/site-packages/pandas/io/parsers/base_parser.py\u001b[0m in \u001b[0;36m_open_handles\u001b[0;34m(self, src, kwds)\u001b[0m\n\u001b[1;32m    220\u001b[0m         \u001b[0mLet\u001b[0m \u001b[0mthe\u001b[0m \u001b[0mreaders\u001b[0m \u001b[0mopen\u001b[0m \u001b[0mIOHandles\u001b[0m \u001b[0mafter\u001b[0m \u001b[0mthey\u001b[0m \u001b[0mare\u001b[0m \u001b[0mdone\u001b[0m \u001b[0;32mwith\u001b[0m \u001b[0mtheir\u001b[0m \u001b[0mpotential\u001b[0m \u001b[0mraises\u001b[0m\u001b[0;34m.\u001b[0m\u001b[0;34m\u001b[0m\u001b[0;34m\u001b[0m\u001b[0m\n\u001b[1;32m    221\u001b[0m         \"\"\"\n\u001b[0;32m--> 222\u001b[0;31m         self.handles = get_handle(\n\u001b[0m\u001b[1;32m    223\u001b[0m             \u001b[0msrc\u001b[0m\u001b[0;34m,\u001b[0m\u001b[0;34m\u001b[0m\u001b[0;34m\u001b[0m\u001b[0m\n\u001b[1;32m    224\u001b[0m             \u001b[0;34m\"r\"\u001b[0m\u001b[0;34m,\u001b[0m\u001b[0;34m\u001b[0m\u001b[0;34m\u001b[0m\u001b[0m\n",
      "\u001b[0;32m~/opt/anaconda3/lib/python3.9/site-packages/pandas/io/common.py\u001b[0m in \u001b[0;36mget_handle\u001b[0;34m(path_or_buf, mode, encoding, compression, memory_map, is_text, errors, storage_options)\u001b[0m\n\u001b[1;32m    700\u001b[0m         \u001b[0;32mif\u001b[0m \u001b[0mioargs\u001b[0m\u001b[0;34m.\u001b[0m\u001b[0mencoding\u001b[0m \u001b[0;32mand\u001b[0m \u001b[0;34m\"b\"\u001b[0m \u001b[0;32mnot\u001b[0m \u001b[0;32min\u001b[0m \u001b[0mioargs\u001b[0m\u001b[0;34m.\u001b[0m\u001b[0mmode\u001b[0m\u001b[0;34m:\u001b[0m\u001b[0;34m\u001b[0m\u001b[0;34m\u001b[0m\u001b[0m\n\u001b[1;32m    701\u001b[0m             \u001b[0;31m# Encoding\u001b[0m\u001b[0;34m\u001b[0m\u001b[0;34m\u001b[0m\u001b[0m\n\u001b[0;32m--> 702\u001b[0;31m             handle = open(\n\u001b[0m\u001b[1;32m    703\u001b[0m                 \u001b[0mhandle\u001b[0m\u001b[0;34m,\u001b[0m\u001b[0;34m\u001b[0m\u001b[0;34m\u001b[0m\u001b[0m\n\u001b[1;32m    704\u001b[0m                 \u001b[0mioargs\u001b[0m\u001b[0;34m.\u001b[0m\u001b[0mmode\u001b[0m\u001b[0;34m,\u001b[0m\u001b[0;34m\u001b[0m\u001b[0;34m\u001b[0m\u001b[0m\n",
      "\u001b[0;31mFileNotFoundError\u001b[0m: [Errno 2] No such file or directory: '/content/births1880.csv'"
     ]
    }
   ],
   "source": [
    "# Since this file is located in the 'content' folder of the notebook, we'll need\n",
    "# to add that to our file\n",
    "df = pd.read_csv('/content/births1880.csv')\n",
    "df"
   ]
  },
  {
   "cell_type": "markdown",
   "metadata": {
    "colab_type": "text",
    "id": "r2dmV0soyuKo"
   },
   "source": [
    "If you exported `births1880.csv` from the previous section with the argument `header=False`, you should see that first row of data has been set as the column names.\n",
    "\n",
    "This happened because the default behavior of `read_csv()` assumes that the first row of a csv file is a header row. This is obviously not the correct result that we want since our data does not have a header row.\n",
    "\n",
    "To correctly read this csv into Pandas, we need to specify that there is no header in this file.\n",
    "\n",
    "```python\n",
    "df = pd.read_csv('/content/births1880.csv', header=None)\n",
    "```\n",
    "\n",
    "However, headers, or column names, are useful for working with data and we could instead provide a list of own column names when importing a csv.\n",
    "\n",
    "```python\n",
    "df = pd.read_csv('/content/births1880.csv', names=['Names', 'Births'])\n",
    "```"
   ]
  },
  {
   "cell_type": "markdown",
   "metadata": {
    "colab_type": "text",
    "id": "Rkx-_RXYzq0z"
   },
   "source": [
    "> **Study drill:**\n",
    "> 1. Import `births1880.csv` with the argument `header=None` as `df_noHeader`.\n",
    "> 2. Import `births1880.csv`, pass a list of column names, and assign the results to a variable called `df_customHeader`.\n",
    "> 3. Return the values of `df_noHeader` and `df_customHeader`. How are the two DataFrames different? Which of the two would be easiest to work with?\n"
   ]
  },
  {
   "cell_type": "code",
   "execution_count": null,
   "metadata": {
    "colab": {},
    "colab_type": "code",
    "id": "t9JtJ40Z00ZO"
   },
   "outputs": [],
   "source": [
    "# Enter your code here\n"
   ]
  },
  {
   "cell_type": "markdown",
   "metadata": {
    "colab_type": "text",
    "id": "eP90LQlWZMJV"
   },
   "source": [
    "#### Before moving onto the next section:\n",
    "\n",
    "You will need a copy of the `birthsdata1800` DataFrame that includes a header. Create a copy `df_customHeader` called `df`.\n",
    "\n",
    "```python\n",
    "df = df_customHeader\n",
    "```"
   ]
  },
  {
   "cell_type": "code",
   "execution_count": null,
   "metadata": {
    "colab": {},
    "colab_type": "code",
    "id": "V7CuKA4MZplu"
   },
   "outputs": [],
   "source": [
    "# Copy the DataFrame here\n"
   ]
  },
  {
   "cell_type": "markdown",
   "metadata": {
    "colab_type": "text",
    "id": "V11unInJ04b9"
   },
   "source": [
    "### 5.4 Explore the data\n",
    "\n",
    "The data we have consists of baby names and the corresponding number of births for the year 1880. We should have a DataFrame with five records and two columns: the `Names` column (which is composed of character data (strings) representing baby names) and the `Births` column (which should only contain integers representing the number of babies born with a specified name). \n",
    "\n",
    "How can we confirm that the shape of the data matches what is expected?\n",
    "\n",
    "1. `df.shape` - This will return a tuple representing the number of rows by columns.\n",
    "2. `df.head()` - This will return the first five rows of the DataFrame.\n",
    "3. `df.columns`  - This will return a list of just the column names.\n",
    "\n",
    "> **Study drill:**\n",
    "> - Use `shape`, `head()`, and `columns` on the DataFrame and compare the results. \n",
    "> - Do the results of each confirm that data is as expected?\n",
    "\n",
    "\n",
    "\n",
    "\n",
    "\n",
    "\n",
    "\n"
   ]
  },
  {
   "cell_type": "code",
   "execution_count": null,
   "metadata": {
    "colab": {},
    "colab_type": "code",
    "id": "lL8128S48vP8"
   },
   "outputs": [],
   "source": [
    "# Enter your code here!\n"
   ]
  },
  {
   "cell_type": "markdown",
   "metadata": {
    "colab_type": "text",
    "id": "RSzLx_wq8xwl"
   },
   "source": [
    "### 5.5 Subsetting: selecting columns and rows\n",
    "\n",
    "It is common to create abbreviated versions of a dataset, known as 'subsetting', that only contain the columns and rows that are neccessary. You may find it valuable to subset a dataset for a specific analysis or to improve performance by reducing the amount of data loaded into memory.\n",
    "\n",
    "**Subset a Dataset**\n",
    "\n",
    "1. Subset by row/column name\n",
    "  - Syntax: `df.loc[rowname, colname]`\n",
    "  - Examples:\n",
    "    - `df.loc[2, 'Names']`  - Returns a single value for row 2, `Names` column\n",
    "    - `df.loc[:3, 'Names':'Births']` - Uses ranges for rows and columns\n",
    "    - `df.loc[[0, 2, 4], ['Names', 'Births']]` - Uses lists to specify certain rows and columns\n",
    "2. Subset by row/column index\n",
    "  - Syntax: `df.iloc[rowindex, colindex]`\n",
    "  - Examples:\n",
    "    - `df.iloc[1, 2]`  - Returns a single value for row 1, `Names` column\n",
    "    - `df.iloc[:4,]` - Returns first four rows, all columns\n",
    "    - `df.iloc[3:, [1, 2]]` - Returns all rows starting with row 3, and only columns 1 and 2 (`Names` and `Births`)\n",
    "3. Subset by varialbe name (columns)\n",
    "  - Syntax: `df['colname']`\n",
    "  - Optional syntax: `df.colname`\n",
    "  - Examples:\n",
    "    - `df['Names']`\n",
    "    - `df.Births`\n",
    "    - `df[['Names', 'Births']]`\n",
    "4. Subset by criteria\n",
    "  - Syntax: `df[df['colname'] <expression> 'criteria']`  - Note that the DataFrame is referenced twice!\n",
    "  - Examples:\n",
    "    - `df[df['Births'] < 100]` - Returns only those rows where the value of `Births` is less than 100\n",
    "    - `df[df['Names'] == 'Mary']` - Returns only those rows where the value of `Names` is `Mary`\n",
    "    - `df[(df['Births'] < 100) & (df['Names'] == 'Mary')]` - Returns only rows where the value of `Births` is less than 100 and the value of `Names` is `Mary`\n",
    "\n",
    "**Note:** If you want to save your subset, you should assign the results to a new variable!\n",
    "\n",
    "Refer to [this](https://cmdlinetips.com/2019/03/how-to-select-one-or-more-columns-in-pandas/) article for a more in-depth explanation of subsetting in Pandas.\n",
    "\n",
    "> **Study drill:**\n",
    "> - Using the above examples, create a subset of the `births1880.csv` DataFrame that meets the following criteria:\n",
    ">   - Only the `Names` column\n",
    ">   - Only births greater than 500\n",
    ">   - Assign your subset to a variable titled `popular_names`\n",
    ">   - **Hint:** You will need to use at least two methods from above.\n",
    "\n",
    "\n"
   ]
  },
  {
   "cell_type": "code",
   "execution_count": null,
   "metadata": {
    "colab": {},
    "colab_type": "code",
    "id": "tO1V9ndAGYT2"
   },
   "outputs": [],
   "source": [
    "# Enter your code here!\n"
   ]
  },
  {
   "cell_type": "markdown",
   "metadata": {
    "colab_type": "text",
    "id": "aTtcnKETPZHc"
   },
   "source": [
    "## VI. A simple analysis\n",
    "\n",
    "We'd like to know the most common name assigned at birth in 1880. We can accomplish this in two ways using Pandas: The methods we'll use will both return the same result, but have different use cases.\n",
    "\n",
    "The first method is to use the `sort_values()` method. `sort_values()` requries the column name or index of at least one column, with optional parameters. We'll practice using the `inplace` and `ascending` parameters with both set to `False`. **Note:** The default behavior of `sorted_values()` is set `inplace` to `False` to prevent overwriting data; the default value of `ascending` is `True`.\n",
    "\n",
    "```python\n",
    "# We're storing the results of `sort_values()` \n",
    "# in a new variable to preserve the output.\n",
    "df_sorted = df.sort_values(['Births'], inplace=False, ascending=False)\n",
    "\n",
    "# Use `head(1)` to return the first sorted row, which should contain the largest birth rate.\n",
    "df_sorted.head(1)\n",
    "```\n",
    "If we wanted to alter the DataFrame directly and permanently, we could skip creating a new variable and switch the value of `inplace` from `False` to `True`. This is not recommended for all datasets, but can be useful when creating subsets!\n",
    "\n",
    "The second method is to use `max()`. This will return the largest value for the column specified.\n",
    "\n",
    "```python\n",
    "df['Births'].max()`\n",
    "```\n",
    "> **Study drill:**\n",
    "> - What are some reasons for using `sort_values()` instead of `max()`?\n",
    "> - Leave out `ascending=False` from your `sort_values()` call. What Pandas function could you use to get the last row, which should be the largest value?"
   ]
  },
  {
   "cell_type": "code",
   "execution_count": null,
   "metadata": {
    "colab": {},
    "colab_type": "code",
    "id": "B8m29So9MPYG"
   },
   "outputs": [],
   "source": [
    "# Enter your code here!\n"
   ]
  },
  {
   "cell_type": "markdown",
   "metadata": {
    "colab_type": "text",
    "id": "aq66vAIBMdSc"
   },
   "source": [
    "## VII. Present your results\n",
    "\n",
    "Let's plot the `Births` column and create descriptive labels for the graph to communicate the most common name given at birth in 1880. \n",
    "\n",
    "We know that Mel was the most popular baby name in the dataset, but we need to plot our data to demonstrate this fact. Pandas includes a convenient plotting attribute for DataFrames that uses the `matplotlib` library. \n",
    "\n",
    "```python\n",
    "df['Births'].plot()\n",
    "```\n",
    "This creates a simple line graph of a single column with little context. However, a line graph isn't the best representation of these data since the values are discrete ('counted') and not continuous ('measured'). Let's change the plot from line to bar and add a title and axes labels.\n",
    "\n",
    "We can indicate that we want a bar graph in two ways: 1) passing the `kind` parameter to `plot()`, or # 2) using dot notation `plot.bar()`. Let's use dot notation to save keystrokes! We'll also need to specify x and y axes values, so instead of plotting the births column let's plot the entire DataFrame and then specify the x and y values.\n",
    "\n",
    "\n"
   ]
  },
  {
   "cell_type": "code",
   "execution_count": null,
   "metadata": {
    "colab": {},
    "colab_type": "code",
    "id": "eR_mnS-DSwWR"
   },
   "outputs": [],
   "source": [
    "# `rot=0` orients the x axis labels horizontally\n",
    "# Shif+enter to produce this graph\n",
    "\n",
    "df.plot.bar(x='Names', y='Births', rot=0)"
   ]
  },
  {
   "cell_type": "markdown",
   "metadata": {
    "colab_type": "text",
    "id": "GAw4Mzr4cQUv"
   },
   "source": [
    "### 7.1 Improve the graph\n",
    "The code above produced a simple bar graph, but it's not quite ready. The legend is incorrect and unnecessary, we're missing the y axis label, and there is no title. Let's fix that.\n",
    "\n",
    "1. First, store the plot in a variable titled `ax`.\n",
    "2. Hide the legend by setting the `legend` parameter to `False`.\n",
    "3. Create a title by adding the `title` parameter with the value `Most Popular Baby Names in 1880`.\n",
    "4. Add a y axis label using the `.set_ylabel()` method and set the y label to `Number of births`.\n"
   ]
  },
  {
   "cell_type": "code",
   "execution_count": null,
   "metadata": {
    "colab": {},
    "colab_type": "code",
    "id": "LQRR-vzSeWML"
   },
   "outputs": [],
   "source": [
    "# Run the following code to produce a bar graph that includes the adjustments above\n",
    "\n",
    "ax = df.plot.bar(x='Names', y='Births', rot=0, legend=False, \n",
    "            title=\"Most Popular Baby Names in 1880\")\n",
    "\n",
    "# Set the y label\n",
    "ax.set_ylabel(\"Number of births\")\n"
   ]
  },
  {
   "cell_type": "markdown",
   "metadata": {
    "colab_type": "text",
    "id": "bOz8TftJdCeB"
   },
   "source": [
    "### 7.2 Order bars by value\n",
    "In previous sections, we learned how to identify the largest value for `Births`, but we'd like to display these data in descending order with the largest value on the left. To acheive this, we can use `.sort_values()` from the previous section to create a new sorted DataFrame with the following code:\n",
    "\n",
    "```python\n",
    "df_sorted = df.sort_values(['Births'], inplace=False, ascending=False)\n",
    "```"
   ]
  },
  {
   "cell_type": "code",
   "execution_count": null,
   "metadata": {
    "colab": {},
    "colab_type": "code",
    "id": "dvQyuMcESsSx"
   },
   "outputs": [],
   "source": [
    "# Run this code to create a sorted DataFrame\n",
    "df_sorted = df.sort_values(['Births'], inplace=False, ascending=False)\n"
   ]
  },
  {
   "cell_type": "markdown",
   "metadata": {
    "colab_type": "text",
    "id": "gr8TwZ9T1EfC"
   },
   "source": [
    "Now that we have sorted the data, let's graph it by using our previous code on this new sorted DataFrame.\n",
    "\n",
    "> **Study drill:**\n",
    "> 1. Alter the code that produced the original bar graph to use `df_sorted`.\n",
    "> 2. Does the graph convey the data more accurately?"
   ]
  },
  {
   "cell_type": "code",
   "execution_count": null,
   "metadata": {
    "colab": {},
    "colab_type": "code",
    "id": "ZAozNREFuNSj"
   },
   "outputs": [],
   "source": [
    "# Enter your code here!\n",
    "\n"
   ]
  },
  {
   "cell_type": "markdown",
   "metadata": {
    "colab_type": "text",
    "id": "ebyNxI04JaGs"
   },
   "source": [
    "### 7.3 Create custom annotations\n",
    "\n",
    "Matplotlib contains a class called `Patch` that is responsible for drawing 2D objects. The specifics of how this class works to create a graph is beyond the scope of this module, but when we created our bar graph, `Patches` stored the dimensions of each bar in a list called `ax.patches`. We can use this to create our annotations.\n",
    "\n",
    "The contents of `ax.patches` can be viewed directly by calling `ax.patches` or using a for loop to iterate through each element of the list and print the contents to the screen.\n",
    "\n",
    "\n",
    "\n"
   ]
  },
  {
   "cell_type": "code",
   "execution_count": null,
   "metadata": {
    "colab": {},
    "colab_type": "code",
    "id": "noOKN63CHWsK"
   },
   "outputs": [],
   "source": [
    "# Run this code!\n",
    "ax.patches\n"
   ]
  },
  {
   "cell_type": "code",
   "execution_count": null,
   "metadata": {
    "colab": {},
    "colab_type": "code",
    "id": "ye6AJxZeKE9q"
   },
   "outputs": [],
   "source": [
    "# Run this code!\n",
    "for p in ax.patches:\n",
    "  print(p)"
   ]
  },
  {
   "cell_type": "markdown",
   "metadata": {
    "colab_type": "text",
    "id": "zpbvlgZXLTnT"
   },
   "source": [
    "Let's build off the for loop since we'll need to create a label for each bar. Each bar or rectangle has four values that define it: a set of coordinates, width, height, and angle. Examine the values for height. You should be able to recognize that the height is determined by the original value of the `Births` column!\n",
    "\n",
    "The first line of our for loop will be the same as above where we printed the contents of `ax.patches`.\n",
    "\n",
    "```python\n",
    "for p in ax.patches:\n",
    "```\n",
    "Next, we'll need to use the `annotate` method on `ax` to define the basics of our annotations which, in this case, are the raw values of each bar.\n",
    "\n",
    "```python\n",
    "for p in ax.patches:\n",
    "  ax.annotate()\n",
    "```\n",
    "In the most simple form, `annotate` uses this syntax: `annotate(text, xy)`. This will annotate a graph by placing `text` at the specifed point `xy`.\n",
    "\n",
    "We could write five separate annotations for each bar, but that would be time consuming and defeat the purpose of programming! Instead, we'll use two methods to retreive the values we need: `get_height()` and `get_x()`.\n",
    "\n",
    "For our text, we can use `get_height()` to get the raw `Births` value. We ca then pass that value to the `str()` method and create the `text` for the annotation.\n",
    "\n",
    "```python\n",
    "for p in ax.patches:\n",
    "  ax.annotate(str(p.get_height()), )\n",
    "```\n",
    "\n",
    "Next, we can use `get_height()` and `get_x()` to create our `xy` coordinate at which to place the annotation.\n",
    "\n",
    "```python\n",
    "for p in ax.patches:\n",
    "  ax.annotate(str(p.get_height()), (p.get_x(), p.get_height()))\n",
    "```\n",
    "\n"
   ]
  },
  {
   "cell_type": "code",
   "execution_count": null,
   "metadata": {
    "colab": {},
    "colab_type": "code",
    "id": "wdg_4cdHPruV"
   },
   "outputs": [],
   "source": [
    "# Run this cell to see the results of our current annotation!\n",
    "ax = df_sorted.plot.bar(x='Names', y='Births', rot=0, legend=False, \n",
    "                        title='Popular baby names in 1880')\n",
    "ax.set_ylabel(\"Number of Births\")\n",
    "\n",
    "for p in ax.patches:\n",
    "  ax.annotate(str(p.get_height()), (p.get_x(), p.get_height()))\n"
   ]
  },
  {
   "cell_type": "markdown",
   "metadata": {
    "colab_type": "text",
    "id": "5vItC_PwQits"
   },
   "source": [
    "We're almost there! The annotations above each bar should match the original `Births` value for each name. However, the position of the labels is not aesthetically pleasing. Let's fix that.\n",
    "\n",
    "It seems appropriate for the annotations to be centered above each bar. We can add two parameters, `ha` and `va`, to `annotate` and set the value of each to `center`.\n",
    "\n",
    "Run the cell below to see what our annotations look like.\n",
    "\n"
   ]
  },
  {
   "cell_type": "code",
   "execution_count": null,
   "metadata": {
    "colab": {},
    "colab_type": "code",
    "id": "KxINiCy5P37z"
   },
   "outputs": [],
   "source": [
    "# Run this cell to see the results of our current annotation!\n",
    "ax = df_sorted.plot.bar(x='Names', y='Births', rot=0, legend=False, \n",
    "                        title='Popular baby names in 1880')\n",
    "ax.set_ylabel(\"Number of Births\")\n",
    "\n",
    "for p in ax.patches:\n",
    "  ax.annotate(str(p.get_height()), (p.get_x(),p.get_height()), ha='center', \n",
    "              va='center')"
   ]
  },
  {
   "cell_type": "markdown",
   "metadata": {
    "colab_type": "text",
    "id": "jZfXiDmhWMlw"
   },
   "source": [
    "That seems to have made it worse! \n",
    "\n",
    "We can manually shift the position of these lables by adding two more parameters: `xytext=(x,y)` and `textcoords`. The value of `xytext=()` will always be coordinate while the value of `textcoords` can be a coordinate or one of the two following strings: `offset points` and `offset pixels`. We're going to use `offset points` and add the coordinate `15,5` for `xytext=()`."
   ]
  },
  {
   "cell_type": "code",
   "execution_count": null,
   "metadata": {
    "colab": {},
    "colab_type": "code",
    "id": "FKBBodNzXFEf"
   },
   "outputs": [],
   "source": [
    "# Run this cell to see the results of our current annotation!\n",
    "ax = df_sorted.plot.bar(x='Names', y='Births', rot=0, legend=False, \n",
    "                        title='Popular baby names in 1880')\n",
    "ax.set_ylabel(\"Number of Births\")\n",
    "\n",
    "for p in ax.patches:\n",
    "  ax.annotate(str(p.get_height()), (p.get_x(),p.get_height()), ha='center', \n",
    "              va='center', xytext=(15,5), textcoords='offset points')"
   ]
  },
  {
   "cell_type": "markdown",
   "metadata": {
    "colab_type": "text",
    "id": "10dCJ-qdV5jA"
   },
   "source": [
    "\n",
    "Now that looks close! However, those coordinates are quite arbitrary and we only settled on using them after manually adjusting the values several times. We can get a more relible position if we use the attributes for each bar that we already have in `ax.patches`!\n",
    "\n",
    "Use `xytext=(x,y)` to set a coordiate for the annotation. The bar starts at the value of `p.get_x()` and has a width of 0.5, which we can get using `p.get_width()`. The center of the bar can be calculated by summing the bar width and starting point and then dividing by two:\n",
    "`(p.get_x()+(p.get_width()/2))`. The top of the bar is equal to `p.get_height()`, but we'll need to add some points to prevent the text from overlapping the bar: `(p.get_height()+20)`.\n",
    "\n",
    "Put it all together and we have:\n",
    "```python\n",
    "xytext=((p.get_x()+(p.get_width()/2)), (p.get_height()+20))\n",
    "```\n",
    "**Note:** Since were are setting the real value of the annotation using `xytext`, we can remove the `textcoords` attribute.\n",
    "\n",
    "\n",
    "\n",
    "\n"
   ]
  },
  {
   "cell_type": "code",
   "execution_count": null,
   "metadata": {
    "colab": {},
    "colab_type": "code",
    "id": "WnoHwr_YamcB"
   },
   "outputs": [],
   "source": [
    "# Run the cell to see the final result!\n",
    "ax = df_sorted.plot.bar(x='Names', y='Births', rot=0, legend=False, \n",
    "                        title='Popular baby names in 1880')\n",
    "ax.set_ylabel(\"Number of Births\")\n",
    "\n",
    "for p in ax.patches:\n",
    "  ax.annotate(str(p.get_height()), (p.get_x(), p.get_height()), ha='center', \n",
    "              va='center', \n",
    "              xytext=((p.get_x()+(p.get_width()/2)), (p.get_height()+20)))"
   ]
  },
  {
   "cell_type": "markdown",
   "metadata": {
    "colab_type": "text",
    "id": "P5u2GbAOa-4m"
   },
   "source": [
    "You can learn more about the `annotate` method [here](https://matplotlib.org/3.1.0/api/_as_gen/matplotlib.axes.Axes.annotate.html?highlight=annotate#matplotlib.axes.Axes.annotate)!\n"
   ]
  },
  {
   "cell_type": "markdown",
   "metadata": {
    "colab_type": "text",
    "id": "Z6lN3TCElvT5"
   },
   "source": [
    "## VIII. The End!\n",
    "\n",
    "Congratulations! You've completed the final module of this workshop! "
   ]
  },
  {
   "cell_type": "markdown",
   "metadata": {
    "colab_type": "text",
    "id": "o4sWocM1boPb"
   },
   "source": [
    "## References:\n",
    "\n",
    "- Data Carpentry : http://www.datacarpentry.org/python-ecology-lesson/00-short-introduction-to-Python/\n",
    "- Tutorials Point: https://www.tutorialspoint.com/python/\n",
    "- Python 3 Document: https://docs.python.org/3/\n",
    "- Matplotlib: https://matplotlib.org/\n",
    "- Data Camp: https://www.datacamp.com/\n",
    "- Plotly: https://plot.ly/\n",
    "- Sentdex Youtube Channel : https://www.youtube.com/user/sentdex\n",
    "- UN Human Developments Data :http://hdr.undp.org/en/data#\n",
    "- WIKIPEDIA : https://www.wikipedia.org/\n",
    "\n",
    "**Take your learning further:**\n",
    "\n",
    "* [Learn Python the Hard Way](https://learncodethehardway.org/python/)\n",
    "* [Python Crash Course](https://ehmatthes.github.io/pcc/)"
   ]
  },
  {
   "cell_type": "code",
   "execution_count": null,
   "metadata": {
    "colab": {},
    "colab_type": "code",
    "id": "gawwgJv_auX_"
   },
   "outputs": [],
   "source": [
    "# Run whatever code you want to here!\n"
   ]
  }
 ],
 "metadata": {
  "colab": {
   "collapsed_sections": [
    "ee0LNQSYRdbf",
    "vJabsYnVSe7D"
   ],
   "name": "2-Working-with-Data.ipynb",
   "provenance": [],
   "toc_visible": true
  },
  "kernelspec": {
   "display_name": "Python 3 (ipykernel)",
   "language": "python",
   "name": "python3"
  },
  "language_info": {
   "codemirror_mode": {
    "name": "ipython",
    "version": 3
   },
   "file_extension": ".py",
   "mimetype": "text/x-python",
   "name": "python",
   "nbconvert_exporter": "python",
   "pygments_lexer": "ipython3",
   "version": "3.9.7"
  }
 },
 "nbformat": 4,
 "nbformat_minor": 1
}
